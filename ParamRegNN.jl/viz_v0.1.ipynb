{
 "cells": [
  {
   "cell_type": "code",
   "execution_count": 11,
   "metadata": {},
   "outputs": [
    {
     "name": "stderr",
     "output_type": "stream",
     "text": [
      "\u001b[32m\u001b[1m Activating\u001b[22m\u001b[39m environment at `C:\\Users\\Sharan Yalburgi\\Documents\\code\\my-binders\\Project.toml`\n",
      "\u001b[32m\u001b[1m  Resolving\u001b[22m\u001b[39m package versions...\n",
      "\u001b[32m\u001b[1mUpdating\u001b[22m\u001b[39m `C:\\Users\\Sharan Yalburgi\\Documents\\code\\my-binders\\Project.toml`\n",
      " \u001b[90m [c601a237] \u001b[39m\u001b[92m+ Interact v0.10.3\u001b[39m\n",
      "\u001b[32m\u001b[1mUpdating\u001b[22m\u001b[39m `C:\\Users\\Sharan Yalburgi\\Documents\\code\\my-binders\\Manifest.toml`\n",
      " \u001b[90m [70588ee8] \u001b[39m\u001b[92m+ CSSUtil v0.1.1\u001b[39m\n",
      " \u001b[90m [c601a237] \u001b[39m\u001b[92m+ Interact v0.10.3\u001b[39m\n",
      " \u001b[90m [d3863d7c] \u001b[39m\u001b[92m+ InteractBase v0.10.6\u001b[39m\n",
      " \u001b[90m [bcebb21b] \u001b[39m\u001b[92m+ Knockout v0.2.4\u001b[39m\n",
      "┌ Info: Precompiling Interact [c601a237-2ae4-5e1e-952c-7a85b0c7eef1]\n",
      "└ @ Base loading.jl:1278\n"
     ]
    }
   ],
   "source": [
    "using Pkg; Pkg.instantiate(); Pkg.activate(\"..\")\n",
    "using Plots\n",
    "using CSV\n",
    "using DataFrames\n",
    "using StatsPlots\n",
    "using PlotlyJS\n",
    "using Interact"
   ]
  },
  {
   "cell_type": "code",
   "execution_count": 12,
   "metadata": {},
   "outputs": [
    {
     "data": {
      "application/vnd.webio.node+json": {
       "children": [
        {
         "children": [
          {
           "children": [
            {
             "children": [
              {
               "children": [
                {
                 "children": [
                  "freq1"
                 ],
                 "instanceArgs": {
                  "namespace": "html",
                  "tag": "label"
                 },
                 "nodeType": "DOM",
                 "props": {
                  "className": "interact ",
                  "style": {
                   "padding": "5px 10px 0px 10px"
                  }
                 },
                 "type": "node"
                }
               ],
               "instanceArgs": {
                "namespace": "html",
                "tag": "div"
               },
               "nodeType": "DOM",
               "props": {
                "className": "interact-flex-row-left"
               },
               "type": "node"
              },
              {
               "children": [
                {
                 "children": [
                  {
                   "children": [
                    {
                     "children": [],
                     "instanceArgs": {
                      "namespace": "html",
                      "tag": "label"
                     },
                     "nodeType": "DOM",
                     "props": {
                      "attributes": {
                       "data-bind": "text : key"
                      }
                     },
                     "type": "node"
                    }
                   ],
                   "instanceArgs": {
                    "namespace": "html",
                    "tag": "span"
                   },
                   "nodeType": "DOM",
                   "props": {
                    "attributes": {
                     "data-bind": "click: function (){$root.update(val)}, css: {'is-primary is-selected' : $root.index() == val, 'interact-widget is-medium button ' : true}"
                    }
                   },
                   "type": "node"
                  }
                 ],
                 "instanceArgs": {
                  "namespace": "html",
                  "tag": "div"
                 },
                 "nodeType": "DOM",
                 "props": {
                  "attributes": {
                   "data-bind": "foreach : options_js"
                  },
                  "className": "buttons has-addons is-centered"
                 },
                 "type": "node"
                }
               ],
               "instanceArgs": {
                "namespace": "html",
                "tag": "div"
               },
               "nodeType": "DOM",
               "props": {
                "className": "interact-flex-row-center"
               },
               "type": "node"
              },
              {
               "children": [
                {
                 "children": [],
                 "instanceArgs": {
                  "namespace": "html",
                  "tag": "div"
                 },
                 "nodeType": "DOM",
                 "props": {},
                 "type": "node"
                }
               ],
               "instanceArgs": {
                "namespace": "html",
                "tag": "div"
               },
               "nodeType": "DOM",
               "props": {
                "className": "interact-flex-row-right"
               },
               "type": "node"
              }
             ],
             "instanceArgs": {
              "namespace": "html",
              "tag": "div"
             },
             "nodeType": "DOM",
             "props": {
              "className": "interact-flex-row interact-widget"
             },
             "type": "node"
            }
           ],
           "instanceArgs": {
            "handlers": {
             "index": [
              "(function (val){return (val!=this.model[\"index\"]()) ? (this.valueFromJulia[\"index\"]=true, this.model[\"index\"](val)) : undefined})"
             ],
             "options_js": [
              "(function (val){return (val!=this.model[\"options_js\"]()) ? (this.valueFromJulia[\"options_js\"]=true, this.model[\"options_js\"](val)) : undefined})"
             ]
            },
            "id": "2496397173899990854",
            "imports": {
             "data": [
              {
               "name": "knockout",
               "type": "js",
               "url": "/assetserver/80133f82293cee26d1735d34aed40afbbc0f7fda-knockout.js"
              },
              {
               "name": "knockout_punches",
               "type": "js",
               "url": "/assetserver/ec63fe3c2e63669d02ee7b7e80d1dc05684cd646-knockout_punches.js"
              },
              {
               "name": null,
               "type": "js",
               "url": "/assetserver/2182d55e67ae0c357235a5e27282375a80af142a-all.js"
              },
              {
               "name": null,
               "type": "css",
               "url": "/assetserver/f63eeede81ecdf76ba8e57d355ff65afe211c1f4-style.css"
              },
              {
               "name": null,
               "type": "css",
               "url": "/assetserver/108f97677b7573b24ee37de6341f8fb13d580468-bulma_confined.min.css"
              }
             ],
             "type": "async_block"
            },
            "mount_callbacks": [
             "function () {\n    var handler = (function (ko, koPunches) {\n    ko.punches.enableAll();\n    ko.bindingHandlers.numericValue = {\n        init: function(element, valueAccessor, allBindings, data, context) {\n            var stringified = ko.observable(ko.unwrap(valueAccessor()));\n            stringified.subscribe(function(value) {\n                var val = parseFloat(value);\n                if (!isNaN(val)) {\n                    valueAccessor()(val);\n                }\n            });\n            valueAccessor().subscribe(function(value) {\n                var str = JSON.stringify(value);\n                if ((str == \"0\") && ([\"-0\", \"-0.\"].indexOf(stringified()) >= 0))\n                     return;\n                 if ([\"null\", \"\"].indexOf(str) >= 0)\n                     return;\n                stringified(str);\n            });\n            ko.applyBindingsToNode(\n                element,\n                {\n                    value: stringified,\n                    valueUpdate: allBindings.get('valueUpdate'),\n                },\n                context,\n            );\n        }\n    };\n    var json_data = {\"options_js\":WebIO.getval({\"name\":\"options_js\",\"scope\":\"2496397173899990854\",\"id\":\"12363473999540113687\",\"type\":\"observable\"}),\"index\":WebIO.getval({\"name\":\"index\",\"scope\":\"2496397173899990854\",\"id\":\"11673622991016866880\",\"type\":\"observable\"})};\n    var self = this;\n    function AppViewModel() {\n        for (var key in json_data) {\n            var el = json_data[key];\n            this[key] = Array.isArray(el) ? ko.observableArray(el) : ko.observable(el);\n        }\n        [this[\"update\"]=function (val) {this.index(val)}]\n        \n        [this[\"options_js\"].subscribe((function (val){!(this.valueFromJulia[\"options_js\"]) ? (WebIO.setval({\"name\":\"options_js\",\"scope\":\"2496397173899990854\",\"id\":\"12363473999540113687\",\"type\":\"observable\"},val)) : undefined; return this.valueFromJulia[\"options_js\"]=false}),self),this[\"index\"].subscribe((function (val){!(this.valueFromJulia[\"index\"]) ? (WebIO.setval({\"name\":\"index\",\"scope\":\"2496397173899990854\",\"id\":\"11673622991016866880\",\"type\":\"observable\"},val)) : undefined; return this.valueFromJulia[\"index\"]=false}),self)]\n        \n    }\n    self.model = new AppViewModel();\n    self.valueFromJulia = {};\n    for (var key in json_data) {\n        self.valueFromJulia[key] = false;\n    }\n    ko.applyBindings(self.model, self.dom);\n}\n);\n    (WebIO.importBlock({\"data\":[{\"name\":\"knockout\",\"type\":\"js\",\"url\":\"/assetserver/80133f82293cee26d1735d34aed40afbbc0f7fda-knockout.js\"},{\"name\":\"knockout_punches\",\"type\":\"js\",\"url\":\"/assetserver/ec63fe3c2e63669d02ee7b7e80d1dc05684cd646-knockout_punches.js\"}],\"type\":\"async_block\"})).then((imports) => handler.apply(this, imports));\n}\n"
            ],
            "observables": {
             "index": {
              "id": "11673622991016866880",
              "sync": true,
              "value": 1
             },
             "options_js": {
              "id": "12363473999540113687",
              "sync": false,
              "value": [
               {
                "id": "iddgeKPaXe",
                "key": "pi/4",
                "val": 1
               },
               {
                "id": "idjkluWuvX",
                "key": "π/2",
                "val": 2
               },
               {
                "id": "idA5BZrFUh",
                "key": "3π/4",
                "val": 3
               },
               {
                "id": "idygElO7FL",
                "key": "π",
                "val": 4
               }
              ]
             }
            },
            "systemjs_options": null
           },
           "nodeType": "Scope",
           "props": {},
           "type": "node"
          }
         ],
         "instanceArgs": {
          "namespace": "html",
          "tag": "div"
         },
         "nodeType": "DOM",
         "props": {
          "className": "interact-widget"
         },
         "type": "node"
        },
        {
         "children": [
          {
           "children": [
            {
             "children": [
              {
               "children": [
                {
                 "children": [
                  "freq2"
                 ],
                 "instanceArgs": {
                  "namespace": "html",
                  "tag": "label"
                 },
                 "nodeType": "DOM",
                 "props": {
                  "className": "interact ",
                  "style": {
                   "padding": "5px 10px 0px 10px"
                  }
                 },
                 "type": "node"
                }
               ],
               "instanceArgs": {
                "namespace": "html",
                "tag": "div"
               },
               "nodeType": "DOM",
               "props": {
                "className": "interact-flex-row-left"
               },
               "type": "node"
              },
              {
               "children": [
                {
                 "children": [],
                 "instanceArgs": {
                  "namespace": "html",
                  "tag": "input"
                 },
                 "nodeType": "DOM",
                 "props": {
                  "attributes": {
                   "data-bind": "numericValue: index, valueUpdate: 'input', event: {change: function (){this.changes(this.changes()+1)}}",
                   "orient": "horizontal",
                   "type": "range"
                  },
                  "className": "slider slider is-fullwidth",
                  "max": 126,
                  "min": 1,
                  "step": 1,
                  "style": {}
                 },
                 "type": "node"
                }
               ],
               "instanceArgs": {
                "namespace": "html",
                "tag": "div"
               },
               "nodeType": "DOM",
               "props": {
                "className": "interact-flex-row-center"
               },
               "type": "node"
              },
              {
               "children": [
                {
                 "children": [],
                 "instanceArgs": {
                  "namespace": "html",
                  "tag": "p"
                 },
                 "nodeType": "DOM",
                 "props": {
                  "attributes": {
                   "data-bind": "text: formatted_val"
                  }
                 },
                 "type": "node"
                }
               ],
               "instanceArgs": {
                "namespace": "html",
                "tag": "div"
               },
               "nodeType": "DOM",
               "props": {
                "className": "interact-flex-row-right"
               },
               "type": "node"
              }
             ],
             "instanceArgs": {
              "namespace": "html",
              "tag": "div"
             },
             "nodeType": "DOM",
             "props": {
              "className": "interact-flex-row interact-widget"
             },
             "type": "node"
            }
           ],
           "instanceArgs": {
            "handlers": {
             "changes": [
              "(function (val){return (val!=this.model[\"changes\"]()) ? (this.valueFromJulia[\"changes\"]=true, this.model[\"changes\"](val)) : undefined})"
             ],
             "index": [
              "(function (val){return (val!=this.model[\"index\"]()) ? (this.valueFromJulia[\"index\"]=true, this.model[\"index\"](val)) : undefined})"
             ]
            },
            "id": "1809717955835292648",
            "imports": {
             "data": [
              {
               "name": "knockout",
               "type": "js",
               "url": "/assetserver/80133f82293cee26d1735d34aed40afbbc0f7fda-knockout.js"
              },
              {
               "name": "knockout_punches",
               "type": "js",
               "url": "/assetserver/ec63fe3c2e63669d02ee7b7e80d1dc05684cd646-knockout_punches.js"
              },
              {
               "name": null,
               "type": "js",
               "url": "/assetserver/2182d55e67ae0c357235a5e27282375a80af142a-all.js"
              },
              {
               "name": null,
               "type": "css",
               "url": "/assetserver/f63eeede81ecdf76ba8e57d355ff65afe211c1f4-style.css"
              },
              {
               "name": null,
               "type": "css",
               "url": "/assetserver/108f97677b7573b24ee37de6341f8fb13d580468-bulma_confined.min.css"
              }
             ],
             "type": "async_block"
            },
            "mount_callbacks": [
             "function () {\n    var handler = (function (ko, koPunches) {\n    ko.punches.enableAll();\n    ko.bindingHandlers.numericValue = {\n        init: function(element, valueAccessor, allBindings, data, context) {\n            var stringified = ko.observable(ko.unwrap(valueAccessor()));\n            stringified.subscribe(function(value) {\n                var val = parseFloat(value);\n                if (!isNaN(val)) {\n                    valueAccessor()(val);\n                }\n            });\n            valueAccessor().subscribe(function(value) {\n                var str = JSON.stringify(value);\n                if ((str == \"0\") && ([\"-0\", \"-0.\"].indexOf(stringified()) >= 0))\n                     return;\n                 if ([\"null\", \"\"].indexOf(str) >= 0)\n                     return;\n                stringified(str);\n            });\n            ko.applyBindingsToNode(\n                element,\n                {\n                    value: stringified,\n                    valueUpdate: allBindings.get('valueUpdate'),\n                },\n                context,\n            );\n        }\n    };\n    var json_data = {\"formatted_vals\":[\"0.01\",\"0.11\",\"0.21\",\"0.31\",\"0.41\",\"0.51\",\"0.61\",\"0.71\",\"0.81\",\"0.91\",\"1.01\",\"1.11\",\"1.21\",\"1.31\",\"1.41\",\"1.51\",\"1.61\",\"1.71\",\"1.81\",\"1.91\",\"2.01\",\"2.11\",\"2.21\",\"2.31\",\"2.41\",\"2.51\",\"2.61\",\"2.71\",\"2.81\",\"2.91\",\"3.01\",\"3.11\",\"3.21\",\"3.31\",\"3.41\",\"3.51\",\"3.61\",\"3.71\",\"3.81\",\"3.91\",\"4.01\",\"4.11\",\"4.21\",\"4.31\",\"4.41\",\"4.51\",\"4.61\",\"4.71\",\"4.81\",\"4.91\",\"5.01\",\"5.11\",\"5.21\",\"5.31\",\"5.41\",\"5.51\",\"5.61\",\"5.71\",\"5.81\",\"5.91\",\"6.01\",\"6.11\",\"6.21\",\"6.31\",\"6.41\",\"6.51\",\"6.61\",\"6.71\",\"6.81\",\"6.91\",\"7.01\",\"7.11\",\"7.21\",\"7.31\",\"7.41\",\"7.51\",\"7.61\",\"7.71\",\"7.81\",\"7.91\",\"8.01\",\"8.11\",\"8.21\",\"8.31\",\"8.41\",\"8.51\",\"8.61\",\"8.71\",\"8.81\",\"8.91\",\"9.01\",\"9.11\",\"9.21\",\"9.31\",\"9.41\",\"9.51\",\"9.61\",\"9.71\",\"9.81\",\"9.91\",\"10.01\",\"10.11\",\"10.21\",\"10.31\",\"10.41\",\"10.51\",\"10.61\",\"10.71\",\"10.81\",\"10.91\",\"11.01\",\"11.11\",\"11.21\",\"11.31\",\"11.41\",\"11.51\",\"11.61\",\"11.71\",\"11.81\",\"11.91\",\"12.01\",\"12.11\",\"12.21\",\"12.31\",\"12.41\",\"12.51\"],\"changes\":WebIO.getval({\"name\":\"changes\",\"scope\":\"1809717955835292648\",\"id\":\"3954626860439442804\",\"type\":\"observable\"}),\"index\":WebIO.getval({\"name\":\"index\",\"scope\":\"1809717955835292648\",\"id\":\"18436344284595466663\",\"type\":\"observable\"})};\n    var self = this;\n    function AppViewModel() {\n        for (var key in json_data) {\n            var el = json_data[key];\n            this[key] = Array.isArray(el) ? ko.observableArray(el) : ko.observable(el);\n        }\n        \n        [this[\"formatted_val\"]=ko.computed(    function(){\n        return this.formatted_vals()[parseInt(this.index())-(1)];\n    }\n,this)]\n        [this[\"changes\"].subscribe((function (val){!(this.valueFromJulia[\"changes\"]) ? (WebIO.setval({\"name\":\"changes\",\"scope\":\"1809717955835292648\",\"id\":\"3954626860439442804\",\"type\":\"observable\"},val)) : undefined; return this.valueFromJulia[\"changes\"]=false}),self),this[\"index\"].subscribe((function (val){!(this.valueFromJulia[\"index\"]) ? (WebIO.setval({\"name\":\"index\",\"scope\":\"1809717955835292648\",\"id\":\"18436344284595466663\",\"type\":\"observable\"},val)) : undefined; return this.valueFromJulia[\"index\"]=false}),self)]\n        \n    }\n    self.model = new AppViewModel();\n    self.valueFromJulia = {};\n    for (var key in json_data) {\n        self.valueFromJulia[key] = false;\n    }\n    ko.applyBindings(self.model, self.dom);\n}\n);\n    (WebIO.importBlock({\"data\":[{\"name\":\"knockout\",\"type\":\"js\",\"url\":\"/assetserver/80133f82293cee26d1735d34aed40afbbc0f7fda-knockout.js\"},{\"name\":\"knockout_punches\",\"type\":\"js\",\"url\":\"/assetserver/ec63fe3c2e63669d02ee7b7e80d1dc05684cd646-knockout_punches.js\"}],\"type\":\"async_block\"})).then((imports) => handler.apply(this, imports));\n}\n"
            ],
            "observables": {
             "changes": {
              "id": "3954626860439442804",
              "sync": false,
              "value": 0
             },
             "index": {
              "id": "18436344284595466663",
              "sync": true,
              "value": 63
             }
            },
            "systemjs_options": null
           },
           "nodeType": "Scope",
           "props": {},
           "type": "node"
          }
         ],
         "instanceArgs": {
          "namespace": "html",
          "tag": "div"
         },
         "nodeType": "DOM",
         "props": {
          "className": "field interact-widget"
         },
         "type": "node"
        },
        {
         "children": [
          {
           "children": [],
           "instanceArgs": {
            "id": "13498378932061126204",
            "name": "obs-node"
           },
           "nodeType": "ObservableNode",
           "props": {},
           "type": "node"
          }
         ],
         "instanceArgs": {
          "handlers": {},
          "id": "13665832518307129083",
          "imports": {
           "data": [],
           "type": "async_block"
          },
          "mount_callbacks": [],
          "observables": {
           "obs-node": {
            "id": "13498378932061126204",
            "sync": false,
            "value": {
             "children": [
              {
               "children": [],
               "instanceArgs": {
                "namespace": "html",
                "tag": "div"
               },
               "nodeType": "DOM",
               "props": {
                "setInnerHtml": "<?xml version=\"1.0\" encoding=\"utf-8\"?>\n<svg xmlns=\"http://www.w3.org/2000/svg\" xmlns:xlink=\"http://www.w3.org/1999/xlink\" width=\"600\" height=\"400\" viewBox=\"0 0 2400 1600\">\n<defs>\n  <clipPath id=\"clip500\">\n    <rect x=\"0\" y=\"0\" width=\"2400\" height=\"1600\"/>\n  </clipPath>\n</defs>\n<path clip-path=\"url(#clip500)\" d=\"\nM0 1600 L2400 1600 L2400 0 L0 0  Z\n  \" fill=\"#ffffff\" fill-rule=\"evenodd\" fill-opacity=\"1\"/>\n<defs>\n  <clipPath id=\"clip501\">\n    <rect x=\"480\" y=\"0\" width=\"1681\" height=\"1600\"/>\n  </clipPath>\n</defs>\n<path clip-path=\"url(#clip500)\" d=\"\nM179.654 1486.45 L2352.76 1486.45 L2352.76 47.2441 L179.654 47.2441  Z\n  \" fill=\"#ffffff\" fill-rule=\"evenodd\" fill-opacity=\"1\"/>\n<defs>\n  <clipPath id=\"clip502\">\n    <rect x=\"179\" y=\"47\" width=\"2174\" height=\"1440\"/>\n  </clipPath>\n</defs>\n<polyline clip-path=\"url(#clip502)\" style=\"stroke:#000000; stroke-width:2; stroke-opacity:0.1; fill:none\" points=\"\n  241.157,1486.45 241.157,47.2441 \n  \"/>\n<polyline clip-path=\"url(#clip502)\" style=\"stroke:#000000; stroke-width:2; stroke-opacity:0.1; fill:none\" points=\"\n  924.522,1486.45 924.522,47.2441 \n  \"/>\n<polyline clip-path=\"url(#clip502)\" style=\"stroke:#000000; stroke-width:2; stroke-opacity:0.1; fill:none\" points=\"\n  1607.89,1486.45 1607.89,47.2441 \n  \"/>\n<polyline clip-path=\"url(#clip502)\" style=\"stroke:#000000; stroke-width:2; stroke-opacity:0.1; fill:none\" points=\"\n  2291.25,1486.45 2291.25,47.2441 \n  \"/>\n<polyline clip-path=\"url(#clip500)\" style=\"stroke:#000000; stroke-width:4; stroke-opacity:1; fill:none\" points=\"\n  179.654,1486.45 2352.76,1486.45 \n  \"/>\n<polyline clip-path=\"url(#clip500)\" style=\"stroke:#000000; stroke-width:4; stroke-opacity:1; fill:none\" points=\"\n  241.157,1486.45 241.157,1469.18 \n  \"/>\n<polyline clip-path=\"url(#clip500)\" style=\"stroke:#000000; stroke-width:4; stroke-opacity:1; fill:none\" points=\"\n  924.522,1486.45 924.522,1469.18 \n  \"/>\n<polyline clip-path=\"url(#clip500)\" style=\"stroke:#000000; stroke-width:4; stroke-opacity:1; fill:none\" points=\"\n  1607.89,1486.45 1607.89,1469.18 \n  \"/>\n<polyline clip-path=\"url(#clip500)\" style=\"stroke:#000000; stroke-width:4; stroke-opacity:1; fill:none\" points=\"\n  2291.25,1486.45 2291.25,1469.18 \n  \"/>\n<path clip-path=\"url(#clip500)\" d=\"M 0 0 M241.157 1515.64 Q237.545 1515.64 235.717 1519.2 Q233.911 1522.75 233.911 1529.87 Q233.911 1536.98 235.717 1540.55 Q237.545 1544.09 241.157 1544.09 Q244.791 1544.09 246.596 1540.55 Q248.425 1536.98 248.425 1529.87 Q248.425 1522.75 246.596 1519.2 Q244.791 1515.64 241.157 1515.64 M241.157 1511.93 Q246.967 1511.93 250.022 1516.54 Q253.101 1521.12 253.101 1529.87 Q253.101 1538.6 250.022 1543.21 Q246.967 1547.79 241.157 1547.79 Q235.346 1547.79 232.268 1543.21 Q229.212 1538.6 229.212 1529.87 Q229.212 1521.12 232.268 1516.54 Q235.346 1511.93 241.157 1511.93 Z\" fill=\"#000000\" fill-rule=\"evenodd\" fill-opacity=\"1\" /><path clip-path=\"url(#clip500)\" d=\"M 0 0 M901.397 1543.18 L909.036 1543.18 L909.036 1516.82 L900.726 1518.49 L900.726 1514.23 L908.99 1512.56 L913.666 1512.56 L913.666 1543.18 L921.304 1543.18 L921.304 1547.12 L901.397 1547.12 L901.397 1543.18 Z\" fill=\"#000000\" fill-rule=\"evenodd\" fill-opacity=\"1\" /><path clip-path=\"url(#clip500)\" d=\"M 0 0 M936.374 1515.64 Q932.763 1515.64 930.934 1519.2 Q929.129 1522.75 929.129 1529.87 Q929.129 1536.98 930.934 1540.55 Q932.763 1544.09 936.374 1544.09 Q940.008 1544.09 941.814 1540.55 Q943.642 1536.98 943.642 1529.87 Q943.642 1522.75 941.814 1519.2 Q940.008 1515.64 936.374 1515.64 M936.374 1511.93 Q942.184 1511.93 945.24 1516.54 Q948.318 1521.12 948.318 1529.87 Q948.318 1538.6 945.24 1543.21 Q942.184 1547.79 936.374 1547.79 Q930.564 1547.79 927.485 1543.21 Q924.429 1538.6 924.429 1529.87 Q924.429 1521.12 927.485 1516.54 Q930.564 1511.93 936.374 1511.93 Z\" fill=\"#000000\" fill-rule=\"evenodd\" fill-opacity=\"1\" /><path clip-path=\"url(#clip500)\" d=\"M 0 0 M1589.03 1543.18 L1605.35 1543.18 L1605.35 1547.12 L1583.41 1547.12 L1583.41 1543.18 Q1586.07 1540.43 1590.65 1535.8 Q1595.26 1531.15 1596.44 1529.81 Q1598.69 1527.28 1599.57 1525.55 Q1600.47 1523.79 1600.47 1522.1 Q1600.47 1519.34 1598.52 1517.61 Q1596.6 1515.87 1593.5 1515.87 Q1591.3 1515.87 1588.85 1516.63 Q1586.42 1517.4 1583.64 1518.95 L1583.64 1514.23 Q1586.46 1513.09 1588.92 1512.51 Q1591.37 1511.93 1593.41 1511.93 Q1598.78 1511.93 1601.97 1514.62 Q1605.17 1517.31 1605.17 1521.8 Q1605.17 1523.93 1604.36 1525.85 Q1603.57 1527.74 1601.46 1530.34 Q1600.89 1531.01 1597.78 1534.23 Q1594.68 1537.42 1589.03 1543.18 Z\" fill=\"#000000\" fill-rule=\"evenodd\" fill-opacity=\"1\" /><path clip-path=\"url(#clip500)\" d=\"M 0 0 M1620.42 1515.64 Q1616.81 1515.64 1614.98 1519.2 Q1613.18 1522.75 1613.18 1529.87 Q1613.18 1536.98 1614.98 1540.55 Q1616.81 1544.09 1620.42 1544.09 Q1624.06 1544.09 1625.86 1540.55 Q1627.69 1536.98 1627.69 1529.87 Q1627.69 1522.75 1625.86 1519.2 Q1624.06 1515.64 1620.42 1515.64 M1620.42 1511.93 Q1626.23 1511.93 1629.29 1516.54 Q1632.37 1521.12 1632.37 1529.87 Q1632.37 1538.6 1629.29 1543.21 Q1626.23 1547.79 1620.42 1547.79 Q1614.61 1547.79 1611.53 1543.21 Q1608.48 1538.6 1608.48 1529.87 Q1608.48 1521.12 1611.53 1516.54 Q1614.61 1511.93 1620.42 1511.93 Z\" fill=\"#000000\" fill-rule=\"evenodd\" fill-opacity=\"1\" /><path clip-path=\"url(#clip500)\" d=\"M 0 0 M2281.99 1528.49 Q2285.35 1529.2 2287.23 1531.47 Q2289.12 1533.74 2289.12 1537.07 Q2289.12 1542.19 2285.6 1544.99 Q2282.09 1547.79 2275.6 1547.79 Q2273.43 1547.79 2271.11 1547.35 Q2268.82 1546.93 2266.37 1546.08 L2266.37 1541.56 Q2268.31 1542.7 2270.63 1543.28 Q2272.94 1543.86 2275.47 1543.86 Q2279.86 1543.86 2282.16 1542.12 Q2284.47 1540.38 2284.47 1537.07 Q2284.47 1534.02 2282.32 1532.31 Q2280.19 1530.57 2276.37 1530.57 L2272.34 1530.57 L2272.34 1526.73 L2276.55 1526.73 Q2280 1526.73 2281.83 1525.36 Q2283.66 1523.97 2283.66 1521.38 Q2283.66 1518.72 2281.76 1517.31 Q2279.89 1515.87 2276.37 1515.87 Q2274.45 1515.87 2272.25 1516.29 Q2270.05 1516.7 2267.41 1517.58 L2267.41 1513.42 Q2270.07 1512.68 2272.39 1512.31 Q2274.73 1511.93 2276.79 1511.93 Q2282.11 1511.93 2285.21 1514.37 Q2288.31 1516.77 2288.31 1520.89 Q2288.31 1523.76 2286.67 1525.75 Q2285.03 1527.72 2281.99 1528.49 Z\" fill=\"#000000\" fill-rule=\"evenodd\" fill-opacity=\"1\" /><path clip-path=\"url(#clip500)\" d=\"M 0 0 M2304.19 1515.64 Q2300.58 1515.64 2298.75 1519.2 Q2296.95 1522.75 2296.95 1529.87 Q2296.95 1536.98 2298.75 1540.55 Q2300.58 1544.09 2304.19 1544.09 Q2307.83 1544.09 2309.63 1540.55 Q2311.46 1536.98 2311.46 1529.87 Q2311.46 1522.75 2309.63 1519.2 Q2307.83 1515.64 2304.19 1515.64 M2304.19 1511.93 Q2310 1511.93 2313.06 1516.54 Q2316.14 1521.12 2316.14 1529.87 Q2316.14 1538.6 2313.06 1543.21 Q2310 1547.79 2304.19 1547.79 Q2298.38 1547.79 2295.3 1543.21 Q2292.25 1538.6 2292.25 1529.87 Q2292.25 1521.12 2295.3 1516.54 Q2298.38 1511.93 2304.19 1511.93 Z\" fill=\"#000000\" fill-rule=\"evenodd\" fill-opacity=\"1\" /><polyline clip-path=\"url(#clip502)\" style=\"stroke:#000000; stroke-width:2; stroke-opacity:0.1; fill:none\" points=\"\n  179.654,1464.07 2352.76,1464.07 \n  \"/>\n<polyline clip-path=\"url(#clip502)\" style=\"stroke:#000000; stroke-width:2; stroke-opacity:0.1; fill:none\" points=\"\n  179.654,1119.91 2352.76,1119.91 \n  \"/>\n<polyline clip-path=\"url(#clip502)\" style=\"stroke:#000000; stroke-width:2; stroke-opacity:0.1; fill:none\" points=\"\n  179.654,775.758 2352.76,775.758 \n  \"/>\n<polyline clip-path=\"url(#clip502)\" style=\"stroke:#000000; stroke-width:2; stroke-opacity:0.1; fill:none\" points=\"\n  179.654,431.601 2352.76,431.601 \n  \"/>\n<polyline clip-path=\"url(#clip502)\" style=\"stroke:#000000; stroke-width:2; stroke-opacity:0.1; fill:none\" points=\"\n  179.654,87.4453 2352.76,87.4453 \n  \"/>\n<polyline clip-path=\"url(#clip500)\" style=\"stroke:#000000; stroke-width:4; stroke-opacity:1; fill:none\" points=\"\n  179.654,1486.45 179.654,47.2441 \n  \"/>\n<polyline clip-path=\"url(#clip500)\" style=\"stroke:#000000; stroke-width:4; stroke-opacity:1; fill:none\" points=\"\n  179.654,1464.07 205.731,1464.07 \n  \"/>\n<polyline clip-path=\"url(#clip500)\" style=\"stroke:#000000; stroke-width:4; stroke-opacity:1; fill:none\" points=\"\n  179.654,1119.91 205.731,1119.91 \n  \"/>\n<polyline clip-path=\"url(#clip500)\" style=\"stroke:#000000; stroke-width:4; stroke-opacity:1; fill:none\" points=\"\n  179.654,775.758 205.731,775.758 \n  \"/>\n<polyline clip-path=\"url(#clip500)\" style=\"stroke:#000000; stroke-width:4; stroke-opacity:1; fill:none\" points=\"\n  179.654,431.601 205.731,431.601 \n  \"/>\n<polyline clip-path=\"url(#clip500)\" style=\"stroke:#000000; stroke-width:4; stroke-opacity:1; fill:none\" points=\"\n  179.654,87.4453 205.731,87.4453 \n  \"/>\n<path clip-path=\"url(#clip500)\" d=\"M 0 0 M51.2236 1464.52 L80.8994 1464.52 L80.8994 1468.46 L51.2236 1468.46 L51.2236 1464.52 Z\" fill=\"#000000\" fill-rule=\"evenodd\" fill-opacity=\"1\" /><path clip-path=\"url(#clip500)\" d=\"M 0 0 M86.779 1477.41 L94.4178 1477.41 L94.4178 1451.05 L86.1077 1452.72 L86.1077 1448.46 L94.3715 1446.79 L99.0474 1446.79 L99.0474 1477.41 L106.686 1477.41 L106.686 1481.35 L86.779 1481.35 L86.779 1477.41 Z\" fill=\"#000000\" fill-rule=\"evenodd\" fill-opacity=\"1\" /><path clip-path=\"url(#clip500)\" d=\"M 0 0 M111.756 1475.47 L116.64 1475.47 L116.64 1481.35 L111.756 1481.35 L111.756 1475.47 Z\" fill=\"#000000\" fill-rule=\"evenodd\" fill-opacity=\"1\" /><path clip-path=\"url(#clip500)\" d=\"M 0 0 M131.709 1449.87 Q128.098 1449.87 126.27 1453.43 Q124.464 1456.98 124.464 1464.1 Q124.464 1471.21 126.27 1474.78 Q128.098 1478.32 131.709 1478.32 Q135.344 1478.32 137.149 1474.78 Q138.978 1471.21 138.978 1464.1 Q138.978 1456.98 137.149 1453.43 Q135.344 1449.87 131.709 1449.87 M131.709 1446.16 Q137.519 1446.16 140.575 1450.77 Q143.654 1455.35 143.654 1464.1 Q143.654 1472.83 140.575 1477.44 Q137.519 1482.02 131.709 1482.02 Q125.899 1482.02 122.82 1477.44 Q119.765 1472.83 119.765 1464.1 Q119.765 1455.35 122.82 1450.77 Q125.899 1446.16 131.709 1446.16 Z\" fill=\"#000000\" fill-rule=\"evenodd\" fill-opacity=\"1\" /><path clip-path=\"url(#clip500)\" d=\"M 0 0 M50.9921 1120.37 L80.6679 1120.37 L80.6679 1124.3 L50.9921 1124.3 L50.9921 1120.37 Z\" fill=\"#000000\" fill-rule=\"evenodd\" fill-opacity=\"1\" /><path clip-path=\"url(#clip500)\" d=\"M 0 0 M95.7373 1105.71 Q92.1262 1105.71 90.2975 1109.28 Q88.4919 1112.82 88.4919 1119.95 Q88.4919 1127.05 90.2975 1130.62 Q92.1262 1134.16 95.7373 1134.16 Q99.3715 1134.16 101.177 1130.62 Q103.006 1127.05 103.006 1119.95 Q103.006 1112.82 101.177 1109.28 Q99.3715 1105.71 95.7373 1105.71 M95.7373 1102.01 Q101.547 1102.01 104.603 1106.62 Q107.682 1111.2 107.682 1119.95 Q107.682 1128.68 104.603 1133.28 Q101.547 1137.87 95.7373 1137.87 Q89.9271 1137.87 86.8484 1133.28 Q83.7929 1128.68 83.7929 1119.95 Q83.7929 1111.2 86.8484 1106.62 Q89.9271 1102.01 95.7373 1102.01 Z\" fill=\"#000000\" fill-rule=\"evenodd\" fill-opacity=\"1\" /><path clip-path=\"url(#clip500)\" d=\"M 0 0 M112.751 1131.31 L117.635 1131.31 L117.635 1137.19 L112.751 1137.19 L112.751 1131.31 Z\" fill=\"#000000\" fill-rule=\"evenodd\" fill-opacity=\"1\" /><path clip-path=\"url(#clip500)\" d=\"M 0 0 M122.751 1102.63 L141.107 1102.63 L141.107 1106.57 L127.033 1106.57 L127.033 1115.04 Q128.052 1114.69 129.07 1114.53 Q130.089 1114.35 131.107 1114.35 Q136.894 1114.35 140.274 1117.52 Q143.654 1120.69 143.654 1126.11 Q143.654 1131.68 140.181 1134.79 Q136.709 1137.87 130.39 1137.87 Q128.214 1137.87 125.945 1137.49 Q123.7 1137.12 121.293 1136.38 L121.293 1131.68 Q123.376 1132.82 125.598 1133.37 Q127.82 1133.93 130.297 1133.93 Q134.302 1133.93 136.64 1131.82 Q138.978 1129.72 138.978 1126.11 Q138.978 1122.49 136.64 1120.39 Q134.302 1118.28 130.297 1118.28 Q128.422 1118.28 126.547 1118.7 Q124.695 1119.12 122.751 1119.99 L122.751 1102.63 Z\" fill=\"#000000\" fill-rule=\"evenodd\" fill-opacity=\"1\" /><path clip-path=\"url(#clip500)\" d=\"M 0 0 M94.7419 761.556 Q91.1308 761.556 89.3021 765.121 Q87.4966 768.663 87.4966 775.792 Q87.4966 782.899 89.3021 786.464 Q91.1308 790.005 94.7419 790.005 Q98.3761 790.005 100.182 786.464 Q102.01 782.899 102.01 775.792 Q102.01 768.663 100.182 765.121 Q98.3761 761.556 94.7419 761.556 M94.7419 757.853 Q100.552 757.853 103.608 762.459 Q106.686 767.042 106.686 775.792 Q106.686 784.519 103.608 789.126 Q100.552 793.709 94.7419 793.709 Q88.9317 793.709 85.8531 789.126 Q82.7975 784.519 82.7975 775.792 Q82.7975 767.042 85.8531 762.459 Q88.9317 757.853 94.7419 757.853 Z\" fill=\"#000000\" fill-rule=\"evenodd\" fill-opacity=\"1\" /><path clip-path=\"url(#clip500)\" d=\"M 0 0 M111.756 787.158 L116.64 787.158 L116.64 793.038 L111.756 793.038 L111.756 787.158 Z\" fill=\"#000000\" fill-rule=\"evenodd\" fill-opacity=\"1\" /><path clip-path=\"url(#clip500)\" d=\"M 0 0 M131.709 761.556 Q128.098 761.556 126.27 765.121 Q124.464 768.663 124.464 775.792 Q124.464 782.899 126.27 786.464 Q128.098 790.005 131.709 790.005 Q135.344 790.005 137.149 786.464 Q138.978 782.899 138.978 775.792 Q138.978 768.663 137.149 765.121 Q135.344 761.556 131.709 761.556 M131.709 757.853 Q137.519 757.853 140.575 762.459 Q143.654 767.042 143.654 775.792 Q143.654 784.519 140.575 789.126 Q137.519 793.709 131.709 793.709 Q125.899 793.709 122.82 789.126 Q119.765 784.519 119.765 775.792 Q119.765 767.042 122.82 762.459 Q125.899 757.853 131.709 757.853 Z\" fill=\"#000000\" fill-rule=\"evenodd\" fill-opacity=\"1\" /><path clip-path=\"url(#clip500)\" d=\"M 0 0 M95.7373 417.4 Q92.1262 417.4 90.2975 420.965 Q88.4919 424.507 88.4919 431.636 Q88.4919 438.743 90.2975 442.307 Q92.1262 445.849 95.7373 445.849 Q99.3715 445.849 101.177 442.307 Q103.006 438.743 103.006 431.636 Q103.006 424.507 101.177 420.965 Q99.3715 417.4 95.7373 417.4 M95.7373 413.696 Q101.547 413.696 104.603 418.303 Q107.682 422.886 107.682 431.636 Q107.682 440.363 104.603 444.969 Q101.547 449.553 95.7373 449.553 Q89.9271 449.553 86.8484 444.969 Q83.7929 440.363 83.7929 431.636 Q83.7929 422.886 86.8484 418.303 Q89.9271 413.696 95.7373 413.696 Z\" fill=\"#000000\" fill-rule=\"evenodd\" fill-opacity=\"1\" /><path clip-path=\"url(#clip500)\" d=\"M 0 0 M112.751 443.002 L117.635 443.002 L117.635 448.881 L112.751 448.881 L112.751 443.002 Z\" fill=\"#000000\" fill-rule=\"evenodd\" fill-opacity=\"1\" /><path clip-path=\"url(#clip500)\" d=\"M 0 0 M122.751 414.321 L141.107 414.321 L141.107 418.257 L127.033 418.257 L127.033 426.729 Q128.052 426.382 129.07 426.22 Q130.089 426.034 131.107 426.034 Q136.894 426.034 140.274 429.206 Q143.654 432.377 143.654 437.794 Q143.654 443.372 140.181 446.474 Q136.709 449.553 130.39 449.553 Q128.214 449.553 125.945 449.182 Q123.7 448.812 121.293 448.071 L121.293 443.372 Q123.376 444.506 125.598 445.062 Q127.82 445.618 130.297 445.618 Q134.302 445.618 136.64 443.511 Q138.978 441.405 138.978 437.794 Q138.978 434.182 136.64 432.076 Q134.302 429.97 130.297 429.97 Q128.422 429.97 126.547 430.386 Q124.695 430.803 122.751 431.682 L122.751 414.321 Z\" fill=\"#000000\" fill-rule=\"evenodd\" fill-opacity=\"1\" /><path clip-path=\"url(#clip500)\" d=\"M 0 0 M86.779 100.79 L94.4178 100.79 L94.4178 74.4246 L86.1077 76.0912 L86.1077 71.832 L94.3715 70.1653 L99.0474 70.1653 L99.0474 100.79 L106.686 100.79 L106.686 104.725 L86.779 104.725 L86.779 100.79 Z\" fill=\"#000000\" fill-rule=\"evenodd\" fill-opacity=\"1\" /><path clip-path=\"url(#clip500)\" d=\"M 0 0 M111.756 98.8457 L116.64 98.8457 L116.64 104.725 L111.756 104.725 L111.756 98.8457 Z\" fill=\"#000000\" fill-rule=\"evenodd\" fill-opacity=\"1\" /><path clip-path=\"url(#clip500)\" d=\"M 0 0 M131.709 73.244 Q128.098 73.244 126.27 76.8088 Q124.464 80.3505 124.464 87.4801 Q124.464 94.5865 126.27 98.1513 Q128.098 101.693 131.709 101.693 Q135.344 101.693 137.149 98.1513 Q138.978 94.5865 138.978 87.4801 Q138.978 80.3505 137.149 76.8088 Q135.344 73.244 131.709 73.244 M131.709 69.5403 Q137.519 69.5403 140.575 74.1468 Q143.654 78.7301 143.654 87.4801 Q143.654 96.2069 140.575 100.813 Q137.519 105.397 131.709 105.397 Q125.899 105.397 122.82 100.813 Q119.765 96.2069 119.765 87.4801 Q119.765 78.7301 122.82 74.1468 Q125.899 69.5403 131.709 69.5403 Z\" fill=\"#000000\" fill-rule=\"evenodd\" fill-opacity=\"1\" /><polyline clip-path=\"url(#clip502)\" style=\"stroke:#009af9; stroke-width:4; stroke-opacity:1; fill:none\" points=\"\n  241.157,775.758 247.99,744.335 254.824,673.85 261.658,621.885 268.491,645.752 275.325,766.121 282.158,948.158 288.992,1111.66 295.826,1167.19 302.659,1061.74 \n  309.493,811.346 316.327,503.161 323.16,263.29 329.994,202.895 336.828,366.417 343.661,706.088 350.495,1096.03 357.329,1381.71 364.162,1444.31 370.996,1252.14 \n  377.83,876.147 384.663,462.163 391.497,171.235 398.331,113.568 405.164,304.355 411.998,660.056 418.832,1035.89 425.665,1287.45 432.499,1329.29 439.333,1165.7 \n  446.166,881.761 453,601.084 459.834,430.495 466.667,417.064 473.501,535.48 480.334,709.022 487.168,851.651 494.002,909.726 500.835,883.363 507.669,818.518 \n  514.503,775.758 521.336,793.168 528.17,863.296 535.004,936.441 541.837,948.813 548.671,860.946 555.505,685.902 562.338,491.231 569.172,371.457 576.006,402.79 \n  582.839,601.606 589.673,907.819 596.507,1203.55 603.34,1361.05 610.174,1299.47 617.008,1024.87 623.841,633.87 630.675,277.604 637.509,100.052 644.342,177.118 \n  651.176,483.131 658.01,899.88 664.843,1264.81 671.677,1437.84 678.51,1358.18 685.344,1066.99 692.178,686.962 699.011,368.771 705.845,228.25 712.679,301.657 \n  719.512,537.182 726.346,824.255 733.18,1045.47 740.013,1126.72 746.847,1063.47 753.681,913.187 760.514,760.433 767.348,673.092 774.182,671.61 781.015,725.298 \n  787.849,775.758 794.683,773.84 801.516,710.036 808.35,621.935 815.184,574.378 822.017,622.265 828.851,775.422 835.685,984.7 842.518,1158.52 849.352,1203.97 \n  856.185,1073.66 863.019,795.468 869.853,469.037 876.686,227.844 883.52,182.227 890.354,368.398 897.187,727.19 904.021,1123.73 910.855,1401.12 917.688,1445.72 \n  924.522,1235.72 931.356,851.668 938.189,443.789 945.023,170.113 951.857,131.869 958.69,333.783 965.524,685.658 972.358,1043.41 979.191,1270.65 986.025,1293.68 \n  992.859,1126.61 999.692,857.563 1006.53,604.544 1013.36,462.381 1020.19,465.097 1027.03,579.328 1033.86,729.209 1040.69,838.385 1047.53,867.586 1054.36,829.624 \n  1061.2,775.758 1068.03,762.019 1074.86,814.069 1081.7,909.631 1088.53,988.328 1095.36,984.494 1102.2,866.256 1109.03,660.177 1115.86,447.094 1122.7,328.735 \n  1129.53,379.461 1136.37,605.952 1143.2,935.307 1150.03,1239.68 1156.87,1388.6 1163.7,1306.7 1170.53,1010.65 1177.37,607.58 1184.2,253.953 1191.03,91.4858 \n  1197.87,187.592 1204.7,506.273 1211.54,922.397 1218.37,1273.43 1225.2,1426.32 1232.04,1330.87 1238.87,1037.09 1245.7,670.219 1252.54,375.591 1259.37,258.081 \n  1266.2,342.489 1273.04,570.61 1279.87,833.904 1286.71,1024.88 1293.54,1082.94 1300.37,1014.47 1307.21,880.218 1314.04,758.497 1320.87,704.062 1327.71,723.069 \n  1334.54,775.758 1341.37,803.983 1348.21,768.115 1355.04,673.225 1361.88,570.084 1368.71,529.539 1375.54,602.797 1382.38,788.142 1389.21,1022.35 1396.04,1203.55 \n  1402.88,1236.73 1409.71,1081.21 1416.55,776.955 1423.38,435.308 1430.21,195.747 1437.05,166.403 1443.88,374.53 1450.71,749.834 1457.55,1149.61 1464.38,1416.12 \n  1471.21,1442.08 1478.05,1215.89 1484.88,826.925 1491.72,428.403 1498.55,173.868 1505.38,154.736 1512.22,365.436 1519.05,710.206 1525.88,1047.15 1532.72,1249.14 \n  1539.55,1254.58 1546.38,1086.79 1553.22,835.625 1560.05,612.086 1566.89,498.197 1573.72,515.066 1580.55,622.273 1587.39,746.183 1594.22,821.22 1601.05,822.786 \n  1607.89,775.758 1614.72,735.446 1621.55,752.08 1628.39,838.226 1635.22,957.034 1642.06,1038.51 1648.89,1016.46 1655.72,867.623 1662.56,632.212 1669.39,403.587 \n  1676.22,289.327 1683.06,360.649 1689.89,613.915 1696.73,963.771 1703.56,1273.58 1710.39,1411.67 1717.23,1309.18 1724.06,993.577 1730.89,581.672 1737.73,233.79 \n  1744.56,87.9763 1751.39,202.432 1758.23,531.137 1765.06,943.239 1771.9,1277.76 1778.73,1409.85 1785.56,1300.16 1792.4,1006.82 1799.23,656.23 1806.06,386.948 \n  1812.9,292.122 1819.73,385.301 1826.56,602.969 1833.4,840.051 1840.23,1000.08 1847.07,1036.24 1853.9,965.207 1860.73,849.652 1867.57,760.397 1874.4,738.391 \n  1881.23,775.758 1888.07,824.725 1894.9,828.74 1901.73,758.669 1908.57,634.303 1915.4,518.83 1922.24,487.787 1929.07,587.458 1935.9,804.039 1942.74,1060.64 \n  1949.57,1246.25 1956.4,1265.2 1963.24,1084.47 1970.07,756.179 1976.9,402.474 1983.74,167.39 1990.57,155.522 1997.41,384.576 2004.24,773.565 2011.07,1173.21 \n  2017.91,1426.48 2024.74,1433.5 2031.57,1193.02 2038.41,802.401 2045.24,416.361 2052.08,182.556 2058.91,181.896 2065.74,398.841 2072.58,733.249 2079.41,1046.91 \n  2086.24,1223.05 2093.08,1212.41 2099.91,1046.76 2106.74,816.312 2113.58,623.755 2120.41,537.643 2127.25,566.463 2134.08,663.832 2140.91,759.71 2147.75,800.283 \n  2154.58,775.758 2161.41,722.301 2168.25,697.978 2175.08,746.013 2181.91,865.355 2188.75,1005 2195.58,1086.49 2202.42,1044.47 2209.25,865.147 2216.08,602.412 \n  2222.92,361.227 2229.75,253.622 2236.58,346.434 2243.42,625.237 2250.25,992.737 2257.08,1304.81 2263.92,1430.03 2270.75,1307.02 2277.59,974.042 2284.42,556.629 \n  2291.25,217.466 \n  \"/>\n<path clip-path=\"url(#clip500)\" d=\"\nM1987.85 216.178 L2280.32 216.178 L2280.32 95.2176 L1987.85 95.2176  Z\n  \" fill=\"#ffffff\" fill-rule=\"evenodd\" fill-opacity=\"1\"/>\n<polyline clip-path=\"url(#clip500)\" style=\"stroke:#000000; stroke-width:4; stroke-opacity:1; fill:none\" points=\"\n  1987.85,216.178 2280.32,216.178 2280.32,95.2176 1987.85,95.2176 1987.85,216.178 \n  \"/>\n<polyline clip-path=\"url(#clip500)\" style=\"stroke:#009af9; stroke-width:4; stroke-opacity:1; fill:none\" points=\"\n  2011.99,155.698 2156.86,155.698 \n  \"/>\n<path clip-path=\"url(#clip500)\" d=\"M 0 0 M2194.85 175.385 Q2193.05 180.015 2191.33 181.427 Q2189.62 182.839 2186.75 182.839 L2183.35 182.839 L2183.35 179.274 L2185.85 179.274 Q2187.61 179.274 2188.58 178.44 Q2189.55 177.607 2190.73 174.505 L2191.5 172.561 L2181.01 147.052 L2185.52 147.052 L2193.63 167.329 L2201.73 147.052 L2206.24 147.052 L2194.85 175.385 Z\" fill=\"#000000\" fill-rule=\"evenodd\" fill-opacity=\"1\" /><path clip-path=\"url(#clip500)\" d=\"M 0 0 M2212.12 169.042 L2219.76 169.042 L2219.76 142.677 L2211.45 144.343 L2211.45 140.084 L2219.71 138.418 L2224.39 138.418 L2224.39 169.042 L2232.03 169.042 L2232.03 172.978 L2212.12 172.978 L2212.12 169.042 Z\" fill=\"#000000\" fill-rule=\"evenodd\" fill-opacity=\"1\" /></svg>\n"
               },
               "type": "node"
              }
             ],
             "instanceArgs": {
              "namespace": "html",
              "tag": "div"
             },
             "nodeType": "DOM",
             "props": {
              "className": "interact-flex-row interact-widget"
             },
             "type": "node"
            }
           }
          },
          "systemjs_options": null
         },
         "nodeType": "Scope",
         "props": {},
         "type": "node"
        }
       ],
       "instanceArgs": {
        "namespace": "html",
        "tag": "div"
       },
       "nodeType": "DOM",
       "props": {},
       "type": "node"
      },
      "text/html": [
       "<div\n",
       "    class=\"webio-mountpoint\"\n",
       "    data-webio-mountpoint=\"10242517078211847699\"\n",
       ">\n",
       "    <script>\n",
       "    if (window.require && require.defined && require.defined(\"nbextensions/webio-jupyter-notebook\")) {\n",
       "        console.log(\"Jupyter WebIO extension detected, not mounting.\");\n",
       "    } else if (window.WebIO) {\n",
       "        WebIO.mount(\n",
       "            document.querySelector('[data-webio-mountpoint=\"10242517078211847699\"]'),\n",
       "            {\"props\":{},\"nodeType\":\"DOM\",\"type\":\"node\",\"instanceArgs\":{\"namespace\":\"html\",\"tag\":\"div\"},\"children\":[{\"props\":{\"className\":\"interact-widget\"},\"nodeType\":\"DOM\",\"type\":\"node\",\"instanceArgs\":{\"namespace\":\"html\",\"tag\":\"div\"},\"children\":[{\"props\":{},\"nodeType\":\"Scope\",\"type\":\"node\",\"instanceArgs\":{\"imports\":{\"data\":[{\"name\":\"knockout\",\"type\":\"js\",\"url\":\"\\/assetserver\\/80133f82293cee26d1735d34aed40afbbc0f7fda-knockout.js\"},{\"name\":\"knockout_punches\",\"type\":\"js\",\"url\":\"\\/assetserver\\/ec63fe3c2e63669d02ee7b7e80d1dc05684cd646-knockout_punches.js\"},{\"name\":null,\"type\":\"js\",\"url\":\"\\/assetserver\\/2182d55e67ae0c357235a5e27282375a80af142a-all.js\"},{\"name\":null,\"type\":\"css\",\"url\":\"\\/assetserver\\/f63eeede81ecdf76ba8e57d355ff65afe211c1f4-style.css\"},{\"name\":null,\"type\":\"css\",\"url\":\"\\/assetserver\\/108f97677b7573b24ee37de6341f8fb13d580468-bulma_confined.min.css\"}],\"type\":\"async_block\"},\"id\":\"2496397173899990854\",\"handlers\":{\"options_js\":[\"(function (val){return (val!=this.model[\\\"options_js\\\"]()) ? (this.valueFromJulia[\\\"options_js\\\"]=true, this.model[\\\"options_js\\\"](val)) : undefined})\"],\"index\":[\"(function (val){return (val!=this.model[\\\"index\\\"]()) ? (this.valueFromJulia[\\\"index\\\"]=true, this.model[\\\"index\\\"](val)) : undefined})\"]},\"systemjs_options\":null,\"mount_callbacks\":[\"function () {\\n    var handler = (function (ko, koPunches) {\\n    ko.punches.enableAll();\\n    ko.bindingHandlers.numericValue = {\\n        init: function(element, valueAccessor, allBindings, data, context) {\\n            var stringified = ko.observable(ko.unwrap(valueAccessor()));\\n            stringified.subscribe(function(value) {\\n                var val = parseFloat(value);\\n                if (!isNaN(val)) {\\n                    valueAccessor()(val);\\n                }\\n            });\\n            valueAccessor().subscribe(function(value) {\\n                var str = JSON.stringify(value);\\n                if ((str == \\\"0\\\") && ([\\\"-0\\\", \\\"-0.\\\"].indexOf(stringified()) >= 0))\\n                     return;\\n                 if ([\\\"null\\\", \\\"\\\"].indexOf(str) >= 0)\\n                     return;\\n                stringified(str);\\n            });\\n            ko.applyBindingsToNode(\\n                element,\\n                {\\n                    value: stringified,\\n                    valueUpdate: allBindings.get('valueUpdate'),\\n                },\\n                context,\\n            );\\n        }\\n    };\\n    var json_data = {\\\"options_js\\\":WebIO.getval({\\\"name\\\":\\\"options_js\\\",\\\"scope\\\":\\\"2496397173899990854\\\",\\\"id\\\":\\\"12363473999540113687\\\",\\\"type\\\":\\\"observable\\\"}),\\\"index\\\":WebIO.getval({\\\"name\\\":\\\"index\\\",\\\"scope\\\":\\\"2496397173899990854\\\",\\\"id\\\":\\\"11673622991016866880\\\",\\\"type\\\":\\\"observable\\\"})};\\n    var self = this;\\n    function AppViewModel() {\\n        for (var key in json_data) {\\n            var el = json_data[key];\\n            this[key] = Array.isArray(el) ? ko.observableArray(el) : ko.observable(el);\\n        }\\n        [this[\\\"update\\\"]=function (val) {this.index(val)}]\\n        \\n        [this[\\\"options_js\\\"].subscribe((function (val){!(this.valueFromJulia[\\\"options_js\\\"]) ? (WebIO.setval({\\\"name\\\":\\\"options_js\\\",\\\"scope\\\":\\\"2496397173899990854\\\",\\\"id\\\":\\\"12363473999540113687\\\",\\\"type\\\":\\\"observable\\\"},val)) : undefined; return this.valueFromJulia[\\\"options_js\\\"]=false}),self),this[\\\"index\\\"].subscribe((function (val){!(this.valueFromJulia[\\\"index\\\"]) ? (WebIO.setval({\\\"name\\\":\\\"index\\\",\\\"scope\\\":\\\"2496397173899990854\\\",\\\"id\\\":\\\"11673622991016866880\\\",\\\"type\\\":\\\"observable\\\"},val)) : undefined; return this.valueFromJulia[\\\"index\\\"]=false}),self)]\\n        \\n    }\\n    self.model = new AppViewModel();\\n    self.valueFromJulia = {};\\n    for (var key in json_data) {\\n        self.valueFromJulia[key] = false;\\n    }\\n    ko.applyBindings(self.model, self.dom);\\n}\\n);\\n    (WebIO.importBlock({\\\"data\\\":[{\\\"name\\\":\\\"knockout\\\",\\\"type\\\":\\\"js\\\",\\\"url\\\":\\\"\\/assetserver\\/80133f82293cee26d1735d34aed40afbbc0f7fda-knockout.js\\\"},{\\\"name\\\":\\\"knockout_punches\\\",\\\"type\\\":\\\"js\\\",\\\"url\\\":\\\"\\/assetserver\\/ec63fe3c2e63669d02ee7b7e80d1dc05684cd646-knockout_punches.js\\\"}],\\\"type\\\":\\\"async_block\\\"})).then((imports) => handler.apply(this, imports));\\n}\\n\"],\"observables\":{\"options_js\":{\"sync\":false,\"id\":\"12363473999540113687\",\"value\":[{\"key\":\"pi\\/4\",\"val\":1,\"id\":\"iddgeKPaXe\"},{\"key\":\"π\\/2\",\"val\":2,\"id\":\"idjkluWuvX\"},{\"key\":\"3π\\/4\",\"val\":3,\"id\":\"idA5BZrFUh\"},{\"key\":\"π\",\"val\":4,\"id\":\"idygElO7FL\"}]},\"index\":{\"sync\":true,\"id\":\"11673622991016866880\",\"value\":1}}},\"children\":[{\"props\":{\"className\":\"interact-flex-row interact-widget\"},\"nodeType\":\"DOM\",\"type\":\"node\",\"instanceArgs\":{\"namespace\":\"html\",\"tag\":\"div\"},\"children\":[{\"props\":{\"className\":\"interact-flex-row-left\"},\"nodeType\":\"DOM\",\"type\":\"node\",\"instanceArgs\":{\"namespace\":\"html\",\"tag\":\"div\"},\"children\":[{\"props\":{\"className\":\"interact \",\"style\":{\"padding\":\"5px 10px 0px 10px\"}},\"nodeType\":\"DOM\",\"type\":\"node\",\"instanceArgs\":{\"namespace\":\"html\",\"tag\":\"label\"},\"children\":[\"freq1\"]}]},{\"props\":{\"className\":\"interact-flex-row-center\"},\"nodeType\":\"DOM\",\"type\":\"node\",\"instanceArgs\":{\"namespace\":\"html\",\"tag\":\"div\"},\"children\":[{\"props\":{\"attributes\":{\"data-bind\":\"foreach : options_js\"},\"className\":\"buttons has-addons is-centered\"},\"nodeType\":\"DOM\",\"type\":\"node\",\"instanceArgs\":{\"namespace\":\"html\",\"tag\":\"div\"},\"children\":[{\"props\":{\"attributes\":{\"data-bind\":\"click: function (){$root.update(val)}, css: {'is-primary is-selected' : $root.index() == val, 'interact-widget is-medium button ' : true}\"}},\"nodeType\":\"DOM\",\"type\":\"node\",\"instanceArgs\":{\"namespace\":\"html\",\"tag\":\"span\"},\"children\":[{\"props\":{\"attributes\":{\"data-bind\":\"text : key\"}},\"nodeType\":\"DOM\",\"type\":\"node\",\"instanceArgs\":{\"namespace\":\"html\",\"tag\":\"label\"},\"children\":[]}]}]}]},{\"props\":{\"className\":\"interact-flex-row-right\"},\"nodeType\":\"DOM\",\"type\":\"node\",\"instanceArgs\":{\"namespace\":\"html\",\"tag\":\"div\"},\"children\":[{\"props\":{},\"nodeType\":\"DOM\",\"type\":\"node\",\"instanceArgs\":{\"namespace\":\"html\",\"tag\":\"div\"},\"children\":[]}]}]}]}]},{\"props\":{\"className\":\"field interact-widget\"},\"nodeType\":\"DOM\",\"type\":\"node\",\"instanceArgs\":{\"namespace\":\"html\",\"tag\":\"div\"},\"children\":[{\"props\":{},\"nodeType\":\"Scope\",\"type\":\"node\",\"instanceArgs\":{\"imports\":{\"data\":[{\"name\":\"knockout\",\"type\":\"js\",\"url\":\"\\/assetserver\\/80133f82293cee26d1735d34aed40afbbc0f7fda-knockout.js\"},{\"name\":\"knockout_punches\",\"type\":\"js\",\"url\":\"\\/assetserver\\/ec63fe3c2e63669d02ee7b7e80d1dc05684cd646-knockout_punches.js\"},{\"name\":null,\"type\":\"js\",\"url\":\"\\/assetserver\\/2182d55e67ae0c357235a5e27282375a80af142a-all.js\"},{\"name\":null,\"type\":\"css\",\"url\":\"\\/assetserver\\/f63eeede81ecdf76ba8e57d355ff65afe211c1f4-style.css\"},{\"name\":null,\"type\":\"css\",\"url\":\"\\/assetserver\\/108f97677b7573b24ee37de6341f8fb13d580468-bulma_confined.min.css\"}],\"type\":\"async_block\"},\"id\":\"1809717955835292648\",\"handlers\":{\"changes\":[\"(function (val){return (val!=this.model[\\\"changes\\\"]()) ? (this.valueFromJulia[\\\"changes\\\"]=true, this.model[\\\"changes\\\"](val)) : undefined})\"],\"index\":[\"(function (val){return (val!=this.model[\\\"index\\\"]()) ? (this.valueFromJulia[\\\"index\\\"]=true, this.model[\\\"index\\\"](val)) : undefined})\"]},\"systemjs_options\":null,\"mount_callbacks\":[\"function () {\\n    var handler = (function (ko, koPunches) {\\n    ko.punches.enableAll();\\n    ko.bindingHandlers.numericValue = {\\n        init: function(element, valueAccessor, allBindings, data, context) {\\n            var stringified = ko.observable(ko.unwrap(valueAccessor()));\\n            stringified.subscribe(function(value) {\\n                var val = parseFloat(value);\\n                if (!isNaN(val)) {\\n                    valueAccessor()(val);\\n                }\\n            });\\n            valueAccessor().subscribe(function(value) {\\n                var str = JSON.stringify(value);\\n                if ((str == \\\"0\\\") && ([\\\"-0\\\", \\\"-0.\\\"].indexOf(stringified()) >= 0))\\n                     return;\\n                 if ([\\\"null\\\", \\\"\\\"].indexOf(str) >= 0)\\n                     return;\\n                stringified(str);\\n            });\\n            ko.applyBindingsToNode(\\n                element,\\n                {\\n                    value: stringified,\\n                    valueUpdate: allBindings.get('valueUpdate'),\\n                },\\n                context,\\n            );\\n        }\\n    };\\n    var json_data = {\\\"formatted_vals\\\":[\\\"0.01\\\",\\\"0.11\\\",\\\"0.21\\\",\\\"0.31\\\",\\\"0.41\\\",\\\"0.51\\\",\\\"0.61\\\",\\\"0.71\\\",\\\"0.81\\\",\\\"0.91\\\",\\\"1.01\\\",\\\"1.11\\\",\\\"1.21\\\",\\\"1.31\\\",\\\"1.41\\\",\\\"1.51\\\",\\\"1.61\\\",\\\"1.71\\\",\\\"1.81\\\",\\\"1.91\\\",\\\"2.01\\\",\\\"2.11\\\",\\\"2.21\\\",\\\"2.31\\\",\\\"2.41\\\",\\\"2.51\\\",\\\"2.61\\\",\\\"2.71\\\",\\\"2.81\\\",\\\"2.91\\\",\\\"3.01\\\",\\\"3.11\\\",\\\"3.21\\\",\\\"3.31\\\",\\\"3.41\\\",\\\"3.51\\\",\\\"3.61\\\",\\\"3.71\\\",\\\"3.81\\\",\\\"3.91\\\",\\\"4.01\\\",\\\"4.11\\\",\\\"4.21\\\",\\\"4.31\\\",\\\"4.41\\\",\\\"4.51\\\",\\\"4.61\\\",\\\"4.71\\\",\\\"4.81\\\",\\\"4.91\\\",\\\"5.01\\\",\\\"5.11\\\",\\\"5.21\\\",\\\"5.31\\\",\\\"5.41\\\",\\\"5.51\\\",\\\"5.61\\\",\\\"5.71\\\",\\\"5.81\\\",\\\"5.91\\\",\\\"6.01\\\",\\\"6.11\\\",\\\"6.21\\\",\\\"6.31\\\",\\\"6.41\\\",\\\"6.51\\\",\\\"6.61\\\",\\\"6.71\\\",\\\"6.81\\\",\\\"6.91\\\",\\\"7.01\\\",\\\"7.11\\\",\\\"7.21\\\",\\\"7.31\\\",\\\"7.41\\\",\\\"7.51\\\",\\\"7.61\\\",\\\"7.71\\\",\\\"7.81\\\",\\\"7.91\\\",\\\"8.01\\\",\\\"8.11\\\",\\\"8.21\\\",\\\"8.31\\\",\\\"8.41\\\",\\\"8.51\\\",\\\"8.61\\\",\\\"8.71\\\",\\\"8.81\\\",\\\"8.91\\\",\\\"9.01\\\",\\\"9.11\\\",\\\"9.21\\\",\\\"9.31\\\",\\\"9.41\\\",\\\"9.51\\\",\\\"9.61\\\",\\\"9.71\\\",\\\"9.81\\\",\\\"9.91\\\",\\\"10.01\\\",\\\"10.11\\\",\\\"10.21\\\",\\\"10.31\\\",\\\"10.41\\\",\\\"10.51\\\",\\\"10.61\\\",\\\"10.71\\\",\\\"10.81\\\",\\\"10.91\\\",\\\"11.01\\\",\\\"11.11\\\",\\\"11.21\\\",\\\"11.31\\\",\\\"11.41\\\",\\\"11.51\\\",\\\"11.61\\\",\\\"11.71\\\",\\\"11.81\\\",\\\"11.91\\\",\\\"12.01\\\",\\\"12.11\\\",\\\"12.21\\\",\\\"12.31\\\",\\\"12.41\\\",\\\"12.51\\\"],\\\"changes\\\":WebIO.getval({\\\"name\\\":\\\"changes\\\",\\\"scope\\\":\\\"1809717955835292648\\\",\\\"id\\\":\\\"3954626860439442804\\\",\\\"type\\\":\\\"observable\\\"}),\\\"index\\\":WebIO.getval({\\\"name\\\":\\\"index\\\",\\\"scope\\\":\\\"1809717955835292648\\\",\\\"id\\\":\\\"18436344284595466663\\\",\\\"type\\\":\\\"observable\\\"})};\\n    var self = this;\\n    function AppViewModel() {\\n        for (var key in json_data) {\\n            var el = json_data[key];\\n            this[key] = Array.isArray(el) ? ko.observableArray(el) : ko.observable(el);\\n        }\\n        \\n        [this[\\\"formatted_val\\\"]=ko.computed(    function(){\\n        return this.formatted_vals()[parseInt(this.index())-(1)];\\n    }\\n,this)]\\n        [this[\\\"changes\\\"].subscribe((function (val){!(this.valueFromJulia[\\\"changes\\\"]) ? (WebIO.setval({\\\"name\\\":\\\"changes\\\",\\\"scope\\\":\\\"1809717955835292648\\\",\\\"id\\\":\\\"3954626860439442804\\\",\\\"type\\\":\\\"observable\\\"},val)) : undefined; return this.valueFromJulia[\\\"changes\\\"]=false}),self),this[\\\"index\\\"].subscribe((function (val){!(this.valueFromJulia[\\\"index\\\"]) ? (WebIO.setval({\\\"name\\\":\\\"index\\\",\\\"scope\\\":\\\"1809717955835292648\\\",\\\"id\\\":\\\"18436344284595466663\\\",\\\"type\\\":\\\"observable\\\"},val)) : undefined; return this.valueFromJulia[\\\"index\\\"]=false}),self)]\\n        \\n    }\\n    self.model = new AppViewModel();\\n    self.valueFromJulia = {};\\n    for (var key in json_data) {\\n        self.valueFromJulia[key] = false;\\n    }\\n    ko.applyBindings(self.model, self.dom);\\n}\\n);\\n    (WebIO.importBlock({\\\"data\\\":[{\\\"name\\\":\\\"knockout\\\",\\\"type\\\":\\\"js\\\",\\\"url\\\":\\\"\\/assetserver\\/80133f82293cee26d1735d34aed40afbbc0f7fda-knockout.js\\\"},{\\\"name\\\":\\\"knockout_punches\\\",\\\"type\\\":\\\"js\\\",\\\"url\\\":\\\"\\/assetserver\\/ec63fe3c2e63669d02ee7b7e80d1dc05684cd646-knockout_punches.js\\\"}],\\\"type\\\":\\\"async_block\\\"})).then((imports) => handler.apply(this, imports));\\n}\\n\"],\"observables\":{\"changes\":{\"sync\":false,\"id\":\"3954626860439442804\",\"value\":0},\"index\":{\"sync\":true,\"id\":\"18436344284595466663\",\"value\":63}}},\"children\":[{\"props\":{\"className\":\"interact-flex-row interact-widget\"},\"nodeType\":\"DOM\",\"type\":\"node\",\"instanceArgs\":{\"namespace\":\"html\",\"tag\":\"div\"},\"children\":[{\"props\":{\"className\":\"interact-flex-row-left\"},\"nodeType\":\"DOM\",\"type\":\"node\",\"instanceArgs\":{\"namespace\":\"html\",\"tag\":\"div\"},\"children\":[{\"props\":{\"className\":\"interact \",\"style\":{\"padding\":\"5px 10px 0px 10px\"}},\"nodeType\":\"DOM\",\"type\":\"node\",\"instanceArgs\":{\"namespace\":\"html\",\"tag\":\"label\"},\"children\":[\"freq2\"]}]},{\"props\":{\"className\":\"interact-flex-row-center\"},\"nodeType\":\"DOM\",\"type\":\"node\",\"instanceArgs\":{\"namespace\":\"html\",\"tag\":\"div\"},\"children\":[{\"props\":{\"max\":126,\"min\":1,\"attributes\":{\"type\":\"range\",\"data-bind\":\"numericValue: index, valueUpdate: 'input', event: {change: function (){this.changes(this.changes()+1)}}\",\"orient\":\"horizontal\"},\"step\":1,\"className\":\"slider slider is-fullwidth\",\"style\":{}},\"nodeType\":\"DOM\",\"type\":\"node\",\"instanceArgs\":{\"namespace\":\"html\",\"tag\":\"input\"},\"children\":[]}]},{\"props\":{\"className\":\"interact-flex-row-right\"},\"nodeType\":\"DOM\",\"type\":\"node\",\"instanceArgs\":{\"namespace\":\"html\",\"tag\":\"div\"},\"children\":[{\"props\":{\"attributes\":{\"data-bind\":\"text: formatted_val\"}},\"nodeType\":\"DOM\",\"type\":\"node\",\"instanceArgs\":{\"namespace\":\"html\",\"tag\":\"p\"},\"children\":[]}]}]}]}]},{\"props\":{},\"nodeType\":\"Scope\",\"type\":\"node\",\"instanceArgs\":{\"imports\":{\"data\":[],\"type\":\"async_block\"},\"id\":\"11490109977518124446\",\"handlers\":{},\"systemjs_options\":null,\"mount_callbacks\":[],\"observables\":{\"obs-node\":{\"sync\":false,\"id\":\"6136435734122708675\",\"value\":{\"props\":{\"className\":\"interact-flex-row interact-widget\"},\"nodeType\":\"DOM\",\"type\":\"node\",\"instanceArgs\":{\"namespace\":\"html\",\"tag\":\"div\"},\"children\":[{\"props\":{\"setInnerHtml\":\"<?xml version=\\\"1.0\\\" encoding=\\\"utf-8\\\"?>\\n<svg xmlns=\\\"http:\\/\\/www.w3.org\\/2000\\/svg\\\" xmlns:xlink=\\\"http:\\/\\/www.w3.org\\/1999\\/xlink\\\" width=\\\"600\\\" height=\\\"400\\\" viewBox=\\\"0 0 2400 1600\\\">\\n<defs>\\n  <clipPath id=\\\"clip460\\\">\\n    <rect x=\\\"0\\\" y=\\\"0\\\" width=\\\"2400\\\" height=\\\"1600\\\"\\/>\\n  <\\/clipPath>\\n<\\/defs>\\n<path clip-path=\\\"url(#clip460)\\\" d=\\\"\\nM0 1600 L2400 1600 L2400 0 L0 0  Z\\n  \\\" fill=\\\"#ffffff\\\" fill-rule=\\\"evenodd\\\" fill-opacity=\\\"1\\\"\\/>\\n<defs>\\n  <clipPath id=\\\"clip461\\\">\\n    <rect x=\\\"480\\\" y=\\\"0\\\" width=\\\"1681\\\" height=\\\"1600\\\"\\/>\\n  <\\/clipPath>\\n<\\/defs>\\n<path clip-path=\\\"url(#clip460)\\\" d=\\\"\\nM179.654 1486.45 L2352.76 1486.45 L2352.76 47.2441 L179.654 47.2441  Z\\n  \\\" fill=\\\"#ffffff\\\" fill-rule=\\\"evenodd\\\" fill-opacity=\\\"1\\\"\\/>\\n<defs>\\n  <clipPath id=\\\"clip462\\\">\\n    <rect x=\\\"179\\\" y=\\\"47\\\" width=\\\"2174\\\" height=\\\"1440\\\"\\/>\\n  <\\/clipPath>\\n<\\/defs>\\n<polyline clip-path=\\\"url(#clip462)\\\" style=\\\"stroke:#000000; stroke-width:2; stroke-opacity:0.1; fill:none\\\" points=\\\"\\n  241.157,1486.45 241.157,47.2441 \\n  \\\"\\/>\\n<polyline clip-path=\\\"url(#clip462)\\\" style=\\\"stroke:#000000; stroke-width:2; stroke-opacity:0.1; fill:none\\\" points=\\\"\\n  924.522,1486.45 924.522,47.2441 \\n  \\\"\\/>\\n<polyline clip-path=\\\"url(#clip462)\\\" style=\\\"stroke:#000000; stroke-width:2; stroke-opacity:0.1; fill:none\\\" points=\\\"\\n  1607.89,1486.45 1607.89,47.2441 \\n  \\\"\\/>\\n<polyline clip-path=\\\"url(#clip462)\\\" style=\\\"stroke:#000000; stroke-width:2; stroke-opacity:0.1; fill:none\\\" points=\\\"\\n  2291.25,1486.45 2291.25,47.2441 \\n  \\\"\\/>\\n<polyline clip-path=\\\"url(#clip460)\\\" style=\\\"stroke:#000000; stroke-width:4; stroke-opacity:1; fill:none\\\" points=\\\"\\n  179.654,1486.45 2352.76,1486.45 \\n  \\\"\\/>\\n<polyline clip-path=\\\"url(#clip460)\\\" style=\\\"stroke:#000000; stroke-width:4; stroke-opacity:1; fill:none\\\" points=\\\"\\n  241.157,1486.45 241.157,1469.18 \\n  \\\"\\/>\\n<polyline clip-path=\\\"url(#clip460)\\\" style=\\\"stroke:#000000; stroke-width:4; stroke-opacity:1; fill:none\\\" points=\\\"\\n  924.522,1486.45 924.522,1469.18 \\n  \\\"\\/>\\n<polyline clip-path=\\\"url(#clip460)\\\" style=\\\"stroke:#000000; stroke-width:4; stroke-opacity:1; fill:none\\\" points=\\\"\\n  1607.89,1486.45 1607.89,1469.18 \\n  \\\"\\/>\\n<polyline clip-path=\\\"url(#clip460)\\\" style=\\\"stroke:#000000; stroke-width:4; stroke-opacity:1; fill:none\\\" points=\\\"\\n  2291.25,1486.45 2291.25,1469.18 \\n  \\\"\\/>\\n<path clip-path=\\\"url(#clip460)\\\" d=\\\"M 0 0 M241.157 1515.64 Q237.545 1515.64 235.717 1519.2 Q233.911 1522.75 233.911 1529.87 Q233.911 1536.98 235.717 1540.55 Q237.545 1544.09 241.157 1544.09 Q244.791 1544.09 246.596 1540.55 Q248.425 1536.98 248.425 1529.87 Q248.425 1522.75 246.596 1519.2 Q244.791 1515.64 241.157 1515.64 M241.157 1511.93 Q246.967 1511.93 250.022 1516.54 Q253.101 1521.12 253.101 1529.87 Q253.101 1538.6 250.022 1543.21 Q246.967 1547.79 241.157 1547.79 Q235.346 1547.79 232.268 1543.21 Q229.212 1538.6 229.212 1529.87 Q229.212 1521.12 232.268 1516.54 Q235.346 1511.93 241.157 1511.93 Z\\\" fill=\\\"#000000\\\" fill-rule=\\\"evenodd\\\" fill-opacity=\\\"1\\\" \\/><path clip-path=\\\"url(#clip460)\\\" d=\\\"M 0 0 M901.397 1543.18 L909.036 1543.18 L909.036 1516.82 L900.726 1518.49 L900.726 1514.23 L908.99 1512.56 L913.666 1512.56 L913.666 1543.18 L921.304 1543.18 L921.304 1547.12 L901.397 1547.12 L901.397 1543.18 Z\\\" fill=\\\"#000000\\\" fill-rule=\\\"evenodd\\\" fill-opacity=\\\"1\\\" \\/><path clip-path=\\\"url(#clip460)\\\" d=\\\"M 0 0 M936.374 1515.64 Q932.763 1515.64 930.934 1519.2 Q929.129 1522.75 929.129 1529.87 Q929.129 1536.98 930.934 1540.55 Q932.763 1544.09 936.374 1544.09 Q940.008 1544.09 941.814 1540.55 Q943.642 1536.98 943.642 1529.87 Q943.642 1522.75 941.814 1519.2 Q940.008 1515.64 936.374 1515.64 M936.374 1511.93 Q942.184 1511.93 945.24 1516.54 Q948.318 1521.12 948.318 1529.87 Q948.318 1538.6 945.24 1543.21 Q942.184 1547.79 936.374 1547.79 Q930.564 1547.79 927.485 1543.21 Q924.429 1538.6 924.429 1529.87 Q924.429 1521.12 927.485 1516.54 Q930.564 1511.93 936.374 1511.93 Z\\\" fill=\\\"#000000\\\" fill-rule=\\\"evenodd\\\" fill-opacity=\\\"1\\\" \\/><path clip-path=\\\"url(#clip460)\\\" d=\\\"M 0 0 M1589.03 1543.18 L1605.35 1543.18 L1605.35 1547.12 L1583.41 1547.12 L1583.41 1543.18 Q1586.07 1540.43 1590.65 1535.8 Q1595.26 1531.15 1596.44 1529.81 Q1598.69 1527.28 1599.57 1525.55 Q1600.47 1523.79 1600.47 1522.1 Q1600.47 1519.34 1598.52 1517.61 Q1596.6 1515.87 1593.5 1515.87 Q1591.3 1515.87 1588.85 1516.63 Q1586.42 1517.4 1583.64 1518.95 L1583.64 1514.23 Q1586.46 1513.09 1588.92 1512.51 Q1591.37 1511.93 1593.41 1511.93 Q1598.78 1511.93 1601.97 1514.62 Q1605.17 1517.31 1605.17 1521.8 Q1605.17 1523.93 1604.36 1525.85 Q1603.57 1527.74 1601.46 1530.34 Q1600.89 1531.01 1597.78 1534.23 Q1594.68 1537.42 1589.03 1543.18 Z\\\" fill=\\\"#000000\\\" fill-rule=\\\"evenodd\\\" fill-opacity=\\\"1\\\" \\/><path clip-path=\\\"url(#clip460)\\\" d=\\\"M 0 0 M1620.42 1515.64 Q1616.81 1515.64 1614.98 1519.2 Q1613.18 1522.75 1613.18 1529.87 Q1613.18 1536.98 1614.98 1540.55 Q1616.81 1544.09 1620.42 1544.09 Q1624.06 1544.09 1625.86 1540.55 Q1627.69 1536.98 1627.69 1529.87 Q1627.69 1522.75 1625.86 1519.2 Q1624.06 1515.64 1620.42 1515.64 M1620.42 1511.93 Q1626.23 1511.93 1629.29 1516.54 Q1632.37 1521.12 1632.37 1529.87 Q1632.37 1538.6 1629.29 1543.21 Q1626.23 1547.79 1620.42 1547.79 Q1614.61 1547.79 1611.53 1543.21 Q1608.48 1538.6 1608.48 1529.87 Q1608.48 1521.12 1611.53 1516.54 Q1614.61 1511.93 1620.42 1511.93 Z\\\" fill=\\\"#000000\\\" fill-rule=\\\"evenodd\\\" fill-opacity=\\\"1\\\" \\/><path clip-path=\\\"url(#clip460)\\\" d=\\\"M 0 0 M2281.99 1528.49 Q2285.35 1529.2 2287.23 1531.47 Q2289.12 1533.74 2289.12 1537.07 Q2289.12 1542.19 2285.6 1544.99 Q2282.09 1547.79 2275.6 1547.79 Q2273.43 1547.79 2271.11 1547.35 Q2268.82 1546.93 2266.37 1546.08 L2266.37 1541.56 Q2268.31 1542.7 2270.63 1543.28 Q2272.94 1543.86 2275.47 1543.86 Q2279.86 1543.86 2282.16 1542.12 Q2284.47 1540.38 2284.47 1537.07 Q2284.47 1534.02 2282.32 1532.31 Q2280.19 1530.57 2276.37 1530.57 L2272.34 1530.57 L2272.34 1526.73 L2276.55 1526.73 Q2280 1526.73 2281.83 1525.36 Q2283.66 1523.97 2283.66 1521.38 Q2283.66 1518.72 2281.76 1517.31 Q2279.89 1515.87 2276.37 1515.87 Q2274.45 1515.87 2272.25 1516.29 Q2270.05 1516.7 2267.41 1517.58 L2267.41 1513.42 Q2270.07 1512.68 2272.39 1512.31 Q2274.73 1511.93 2276.79 1511.93 Q2282.11 1511.93 2285.21 1514.37 Q2288.31 1516.77 2288.31 1520.89 Q2288.31 1523.76 2286.67 1525.75 Q2285.03 1527.72 2281.99 1528.49 Z\\\" fill=\\\"#000000\\\" fill-rule=\\\"evenodd\\\" fill-opacity=\\\"1\\\" \\/><path clip-path=\\\"url(#clip460)\\\" d=\\\"M 0 0 M2304.19 1515.64 Q2300.58 1515.64 2298.75 1519.2 Q2296.95 1522.75 2296.95 1529.87 Q2296.95 1536.98 2298.75 1540.55 Q2300.58 1544.09 2304.19 1544.09 Q2307.83 1544.09 2309.63 1540.55 Q2311.46 1536.98 2311.46 1529.87 Q2311.46 1522.75 2309.63 1519.2 Q2307.83 1515.64 2304.19 1515.64 M2304.19 1511.93 Q2310 1511.93 2313.06 1516.54 Q2316.14 1521.12 2316.14 1529.87 Q2316.14 1538.6 2313.06 1543.21 Q2310 1547.79 2304.19 1547.79 Q2298.38 1547.79 2295.3 1543.21 Q2292.25 1538.6 2292.25 1529.87 Q2292.25 1521.12 2295.3 1516.54 Q2298.38 1511.93 2304.19 1511.93 Z\\\" fill=\\\"#000000\\\" fill-rule=\\\"evenodd\\\" fill-opacity=\\\"1\\\" \\/><polyline clip-path=\\\"url(#clip462)\\\" style=\\\"stroke:#000000; stroke-width:2; stroke-opacity:0.1; fill:none\\\" points=\\\"\\n  179.654,1464.07 2352.76,1464.07 \\n  \\\"\\/>\\n<polyline clip-path=\\\"url(#clip462)\\\" style=\\\"stroke:#000000; stroke-width:2; stroke-opacity:0.1; fill:none\\\" points=\\\"\\n  179.654,1119.91 2352.76,1119.91 \\n  \\\"\\/>\\n<polyline clip-path=\\\"url(#clip462)\\\" style=\\\"stroke:#000000; stroke-width:2; stroke-opacity:0.1; fill:none\\\" points=\\\"\\n  179.654,775.758 2352.76,775.758 \\n  \\\"\\/>\\n<polyline clip-path=\\\"url(#clip462)\\\" style=\\\"stroke:#000000; stroke-width:2; stroke-opacity:0.1; fill:none\\\" points=\\\"\\n  179.654,431.601 2352.76,431.601 \\n  \\\"\\/>\\n<polyline clip-path=\\\"url(#clip462)\\\" style=\\\"stroke:#000000; stroke-width:2; stroke-opacity:0.1; fill:none\\\" points=\\\"\\n  179.654,87.4453 2352.76,87.4453 \\n  \\\"\\/>\\n<polyline clip-path=\\\"url(#clip460)\\\" style=\\\"stroke:#000000; stroke-width:4; stroke-opacity:1; fill:none\\\" points=\\\"\\n  179.654,1486.45 179.654,47.2441 \\n  \\\"\\/>\\n<polyline clip-path=\\\"url(#clip460)\\\" style=\\\"stroke:#000000; stroke-width:4; stroke-opacity:1; fill:none\\\" points=\\\"\\n  179.654,1464.07 205.731,1464.07 \\n  \\\"\\/>\\n<polyline clip-path=\\\"url(#clip460)\\\" style=\\\"stroke:#000000; stroke-width:4; stroke-opacity:1; fill:none\\\" points=\\\"\\n  179.654,1119.91 205.731,1119.91 \\n  \\\"\\/>\\n<polyline clip-path=\\\"url(#clip460)\\\" style=\\\"stroke:#000000; stroke-width:4; stroke-opacity:1; fill:none\\\" points=\\\"\\n  179.654,775.758 205.731,775.758 \\n  \\\"\\/>\\n<polyline clip-path=\\\"url(#clip460)\\\" style=\\\"stroke:#000000; stroke-width:4; stroke-opacity:1; fill:none\\\" points=\\\"\\n  179.654,431.601 205.731,431.601 \\n  \\\"\\/>\\n<polyline clip-path=\\\"url(#clip460)\\\" style=\\\"stroke:#000000; stroke-width:4; stroke-opacity:1; fill:none\\\" points=\\\"\\n  179.654,87.4453 205.731,87.4453 \\n  \\\"\\/>\\n<path clip-path=\\\"url(#clip460)\\\" d=\\\"M 0 0 M51.2236 1464.52 L80.8994 1464.52 L80.8994 1468.46 L51.2236 1468.46 L51.2236 1464.52 Z\\\" fill=\\\"#000000\\\" fill-rule=\\\"evenodd\\\" fill-opacity=\\\"1\\\" \\/><path clip-path=\\\"url(#clip460)\\\" d=\\\"M 0 0 M86.779 1477.41 L94.4178 1477.41 L94.4178 1451.05 L86.1077 1452.72 L86.1077 1448.46 L94.3715 1446.79 L99.0474 1446.79 L99.0474 1477.41 L106.686 1477.41 L106.686 1481.35 L86.779 1481.35 L86.779 1477.41 Z\\\" fill=\\\"#000000\\\" fill-rule=\\\"evenodd\\\" fill-opacity=\\\"1\\\" \\/><path clip-path=\\\"url(#clip460)\\\" d=\\\"M 0 0 M111.756 1475.47 L116.64 1475.47 L116.64 1481.35 L111.756 1481.35 L111.756 1475.47 Z\\\" fill=\\\"#000000\\\" fill-rule=\\\"evenodd\\\" fill-opacity=\\\"1\\\" \\/><path clip-path=\\\"url(#clip460)\\\" d=\\\"M 0 0 M131.709 1449.87 Q128.098 1449.87 126.27 1453.43 Q124.464 1456.98 124.464 1464.1 Q124.464 1471.21 126.27 1474.78 Q128.098 1478.32 131.709 1478.32 Q135.344 1478.32 137.149 1474.78 Q138.978 1471.21 138.978 1464.1 Q138.978 1456.98 137.149 1453.43 Q135.344 1449.87 131.709 1449.87 M131.709 1446.16 Q137.519 1446.16 140.575 1450.77 Q143.654 1455.35 143.654 1464.1 Q143.654 1472.83 140.575 1477.44 Q137.519 1482.02 131.709 1482.02 Q125.899 1482.02 122.82 1477.44 Q119.765 1472.83 119.765 1464.1 Q119.765 1455.35 122.82 1450.77 Q125.899 1446.16 131.709 1446.16 Z\\\" fill=\\\"#000000\\\" fill-rule=\\\"evenodd\\\" fill-opacity=\\\"1\\\" \\/><path clip-path=\\\"url(#clip460)\\\" d=\\\"M 0 0 M50.9921 1120.37 L80.6679 1120.37 L80.6679 1124.3 L50.9921 1124.3 L50.9921 1120.37 Z\\\" fill=\\\"#000000\\\" fill-rule=\\\"evenodd\\\" fill-opacity=\\\"1\\\" \\/><path clip-path=\\\"url(#clip460)\\\" d=\\\"M 0 0 M95.7373 1105.71 Q92.1262 1105.71 90.2975 1109.28 Q88.4919 1112.82 88.4919 1119.95 Q88.4919 1127.05 90.2975 1130.62 Q92.1262 1134.16 95.7373 1134.16 Q99.3715 1134.16 101.177 1130.62 Q103.006 1127.05 103.006 1119.95 Q103.006 1112.82 101.177 1109.28 Q99.3715 1105.71 95.7373 1105.71 M95.7373 1102.01 Q101.547 1102.01 104.603 1106.62 Q107.682 1111.2 107.682 1119.95 Q107.682 1128.68 104.603 1133.28 Q101.547 1137.87 95.7373 1137.87 Q89.9271 1137.87 86.8484 1133.28 Q83.7929 1128.68 83.7929 1119.95 Q83.7929 1111.2 86.8484 1106.62 Q89.9271 1102.01 95.7373 1102.01 Z\\\" fill=\\\"#000000\\\" fill-rule=\\\"evenodd\\\" fill-opacity=\\\"1\\\" \\/><path clip-path=\\\"url(#clip460)\\\" d=\\\"M 0 0 M112.751 1131.31 L117.635 1131.31 L117.635 1137.19 L112.751 1137.19 L112.751 1131.31 Z\\\" fill=\\\"#000000\\\" fill-rule=\\\"evenodd\\\" fill-opacity=\\\"1\\\" \\/><path clip-path=\\\"url(#clip460)\\\" d=\\\"M 0 0 M122.751 1102.63 L141.107 1102.63 L141.107 1106.57 L127.033 1106.57 L127.033 1115.04 Q128.052 1114.69 129.07 1114.53 Q130.089 1114.35 131.107 1114.35 Q136.894 1114.35 140.274 1117.52 Q143.654 1120.69 143.654 1126.11 Q143.654 1131.68 140.181 1134.79 Q136.709 1137.87 130.39 1137.87 Q128.214 1137.87 125.945 1137.49 Q123.7 1137.12 121.293 1136.38 L121.293 1131.68 Q123.376 1132.82 125.598 1133.37 Q127.82 1133.93 130.297 1133.93 Q134.302 1133.93 136.64 1131.82 Q138.978 1129.72 138.978 1126.11 Q138.978 1122.49 136.64 1120.39 Q134.302 1118.28 130.297 1118.28 Q128.422 1118.28 126.547 1118.7 Q124.695 1119.12 122.751 1119.99 L122.751 1102.63 Z\\\" fill=\\\"#000000\\\" fill-rule=\\\"evenodd\\\" fill-opacity=\\\"1\\\" \\/><path clip-path=\\\"url(#clip460)\\\" d=\\\"M 0 0 M94.7419 761.556 Q91.1308 761.556 89.3021 765.121 Q87.4966 768.663 87.4966 775.792 Q87.4966 782.899 89.3021 786.464 Q91.1308 790.005 94.7419 790.005 Q98.3761 790.005 100.182 786.464 Q102.01 782.899 102.01 775.792 Q102.01 768.663 100.182 765.121 Q98.3761 761.556 94.7419 761.556 M94.7419 757.853 Q100.552 757.853 103.608 762.459 Q106.686 767.042 106.686 775.792 Q106.686 784.519 103.608 789.126 Q100.552 793.709 94.7419 793.709 Q88.9317 793.709 85.8531 789.126 Q82.7975 784.519 82.7975 775.792 Q82.7975 767.042 85.8531 762.459 Q88.9317 757.853 94.7419 757.853 Z\\\" fill=\\\"#000000\\\" fill-rule=\\\"evenodd\\\" fill-opacity=\\\"1\\\" \\/><path clip-path=\\\"url(#clip460)\\\" d=\\\"M 0 0 M111.756 787.158 L116.64 787.158 L116.64 793.038 L111.756 793.038 L111.756 787.158 Z\\\" fill=\\\"#000000\\\" fill-rule=\\\"evenodd\\\" fill-opacity=\\\"1\\\" \\/><path clip-path=\\\"url(#clip460)\\\" d=\\\"M 0 0 M131.709 761.556 Q128.098 761.556 126.27 765.121 Q124.464 768.663 124.464 775.792 Q124.464 782.899 126.27 786.464 Q128.098 790.005 131.709 790.005 Q135.344 790.005 137.149 786.464 Q138.978 782.899 138.978 775.792 Q138.978 768.663 137.149 765.121 Q135.344 761.556 131.709 761.556 M131.709 757.853 Q137.519 757.853 140.575 762.459 Q143.654 767.042 143.654 775.792 Q143.654 784.519 140.575 789.126 Q137.519 793.709 131.709 793.709 Q125.899 793.709 122.82 789.126 Q119.765 784.519 119.765 775.792 Q119.765 767.042 122.82 762.459 Q125.899 757.853 131.709 757.853 Z\\\" fill=\\\"#000000\\\" fill-rule=\\\"evenodd\\\" fill-opacity=\\\"1\\\" \\/><path clip-path=\\\"url(#clip460)\\\" d=\\\"M 0 0 M95.7373 417.4 Q92.1262 417.4 90.2975 420.965 Q88.4919 424.507 88.4919 431.636 Q88.4919 438.743 90.2975 442.307 Q92.1262 445.849 95.7373 445.849 Q99.3715 445.849 101.177 442.307 Q103.006 438.743 103.006 431.636 Q103.006 424.507 101.177 420.965 Q99.3715 417.4 95.7373 417.4 M95.7373 413.696 Q101.547 413.696 104.603 418.303 Q107.682 422.886 107.682 431.636 Q107.682 440.363 104.603 444.969 Q101.547 449.553 95.7373 449.553 Q89.9271 449.553 86.8484 444.969 Q83.7929 440.363 83.7929 431.636 Q83.7929 422.886 86.8484 418.303 Q89.9271 413.696 95.7373 413.696 Z\\\" fill=\\\"#000000\\\" fill-rule=\\\"evenodd\\\" fill-opacity=\\\"1\\\" \\/><path clip-path=\\\"url(#clip460)\\\" d=\\\"M 0 0 M112.751 443.002 L117.635 443.002 L117.635 448.881 L112.751 448.881 L112.751 443.002 Z\\\" fill=\\\"#000000\\\" fill-rule=\\\"evenodd\\\" fill-opacity=\\\"1\\\" \\/><path clip-path=\\\"url(#clip460)\\\" d=\\\"M 0 0 M122.751 414.321 L141.107 414.321 L141.107 418.257 L127.033 418.257 L127.033 426.729 Q128.052 426.382 129.07 426.22 Q130.089 426.034 131.107 426.034 Q136.894 426.034 140.274 429.206 Q143.654 432.377 143.654 437.794 Q143.654 443.372 140.181 446.474 Q136.709 449.553 130.39 449.553 Q128.214 449.553 125.945 449.182 Q123.7 448.812 121.293 448.071 L121.293 443.372 Q123.376 444.506 125.598 445.062 Q127.82 445.618 130.297 445.618 Q134.302 445.618 136.64 443.511 Q138.978 441.405 138.978 437.794 Q138.978 434.182 136.64 432.076 Q134.302 429.97 130.297 429.97 Q128.422 429.97 126.547 430.386 Q124.695 430.803 122.751 431.682 L122.751 414.321 Z\\\" fill=\\\"#000000\\\" fill-rule=\\\"evenodd\\\" fill-opacity=\\\"1\\\" \\/><path clip-path=\\\"url(#clip460)\\\" d=\\\"M 0 0 M86.779 100.79 L94.4178 100.79 L94.4178 74.4246 L86.1077 76.0912 L86.1077 71.832 L94.3715 70.1653 L99.0474 70.1653 L99.0474 100.79 L106.686 100.79 L106.686 104.725 L86.779 104.725 L86.779 100.79 Z\\\" fill=\\\"#000000\\\" fill-rule=\\\"evenodd\\\" fill-opacity=\\\"1\\\" \\/><path clip-path=\\\"url(#clip460)\\\" d=\\\"M 0 0 M111.756 98.8457 L116.64 98.8457 L116.64 104.725 L111.756 104.725 L111.756 98.8457 Z\\\" fill=\\\"#000000\\\" fill-rule=\\\"evenodd\\\" fill-opacity=\\\"1\\\" \\/><path clip-path=\\\"url(#clip460)\\\" d=\\\"M 0 0 M131.709 73.244 Q128.098 73.244 126.27 76.8088 Q124.464 80.3505 124.464 87.4801 Q124.464 94.5865 126.27 98.1513 Q128.098 101.693 131.709 101.693 Q135.344 101.693 137.149 98.1513 Q138.978 94.5865 138.978 87.4801 Q138.978 80.3505 137.149 76.8088 Q135.344 73.244 131.709 73.244 M131.709 69.5403 Q137.519 69.5403 140.575 74.1468 Q143.654 78.7301 143.654 87.4801 Q143.654 96.2069 140.575 100.813 Q137.519 105.397 131.709 105.397 Q125.899 105.397 122.82 100.813 Q119.765 96.2069 119.765 87.4801 Q119.765 78.7301 122.82 74.1468 Q125.899 69.5403 131.709 69.5403 Z\\\" fill=\\\"#000000\\\" fill-rule=\\\"evenodd\\\" fill-opacity=\\\"1\\\" \\/><polyline clip-path=\\\"url(#clip462)\\\" style=\\\"stroke:#009af9; stroke-width:4; stroke-opacity:1; fill:none\\\" points=\\\"\\n  241.157,775.758 247.99,744.335 254.824,673.85 261.658,621.885 268.491,645.752 275.325,766.121 282.158,948.158 288.992,1111.66 295.826,1167.19 302.659,1061.74 \\n  309.493,811.346 316.327,503.161 323.16,263.29 329.994,202.895 336.828,366.417 343.661,706.088 350.495,1096.03 357.329,1381.71 364.162,1444.31 370.996,1252.14 \\n  377.83,876.147 384.663,462.163 391.497,171.235 398.331,113.568 405.164,304.355 411.998,660.056 418.832,1035.89 425.665,1287.45 432.499,1329.29 439.333,1165.7 \\n  446.166,881.761 453,601.084 459.834,430.495 466.667,417.064 473.501,535.48 480.334,709.022 487.168,851.651 494.002,909.726 500.835,883.363 507.669,818.518 \\n  514.503,775.758 521.336,793.168 528.17,863.296 535.004,936.441 541.837,948.813 548.671,860.946 555.505,685.902 562.338,491.231 569.172,371.457 576.006,402.79 \\n  582.839,601.606 589.673,907.819 596.507,1203.55 603.34,1361.05 610.174,1299.47 617.008,1024.87 623.841,633.87 630.675,277.604 637.509,100.052 644.342,177.118 \\n  651.176,483.131 658.01,899.88 664.843,1264.81 671.677,1437.84 678.51,1358.18 685.344,1066.99 692.178,686.962 699.011,368.771 705.845,228.25 712.679,301.657 \\n  719.512,537.182 726.346,824.255 733.18,1045.47 740.013,1126.72 746.847,1063.47 753.681,913.187 760.514,760.433 767.348,673.092 774.182,671.61 781.015,725.298 \\n  787.849,775.758 794.683,773.84 801.516,710.036 808.35,621.935 815.184,574.378 822.017,622.265 828.851,775.422 835.685,984.7 842.518,1158.52 849.352,1203.97 \\n  856.185,1073.66 863.019,795.468 869.853,469.037 876.686,227.844 883.52,182.227 890.354,368.398 897.187,727.19 904.021,1123.73 910.855,1401.12 917.688,1445.72 \\n  924.522,1235.72 931.356,851.668 938.189,443.789 945.023,170.113 951.857,131.869 958.69,333.783 965.524,685.658 972.358,1043.41 979.191,1270.65 986.025,1293.68 \\n  992.859,1126.61 999.692,857.563 1006.53,604.544 1013.36,462.381 1020.19,465.097 1027.03,579.328 1033.86,729.209 1040.69,838.385 1047.53,867.586 1054.36,829.624 \\n  1061.2,775.758 1068.03,762.019 1074.86,814.069 1081.7,909.631 1088.53,988.328 1095.36,984.494 1102.2,866.256 1109.03,660.177 1115.86,447.094 1122.7,328.735 \\n  1129.53,379.461 1136.37,605.952 1143.2,935.307 1150.03,1239.68 1156.87,1388.6 1163.7,1306.7 1170.53,1010.65 1177.37,607.58 1184.2,253.953 1191.03,91.4858 \\n  1197.87,187.592 1204.7,506.273 1211.54,922.397 1218.37,1273.43 1225.2,1426.32 1232.04,1330.87 1238.87,1037.09 1245.7,670.219 1252.54,375.591 1259.37,258.081 \\n  1266.2,342.489 1273.04,570.61 1279.87,833.904 1286.71,1024.88 1293.54,1082.94 1300.37,1014.47 1307.21,880.218 1314.04,758.497 1320.87,704.062 1327.71,723.069 \\n  1334.54,775.758 1341.37,803.983 1348.21,768.115 1355.04,673.225 1361.88,570.084 1368.71,529.539 1375.54,602.797 1382.38,788.142 1389.21,1022.35 1396.04,1203.55 \\n  1402.88,1236.73 1409.71,1081.21 1416.55,776.955 1423.38,435.308 1430.21,195.747 1437.05,166.403 1443.88,374.53 1450.71,749.834 1457.55,1149.61 1464.38,1416.12 \\n  1471.21,1442.08 1478.05,1215.89 1484.88,826.925 1491.72,428.403 1498.55,173.868 1505.38,154.736 1512.22,365.436 1519.05,710.206 1525.88,1047.15 1532.72,1249.14 \\n  1539.55,1254.58 1546.38,1086.79 1553.22,835.625 1560.05,612.086 1566.89,498.197 1573.72,515.066 1580.55,622.273 1587.39,746.183 1594.22,821.22 1601.05,822.786 \\n  1607.89,775.758 1614.72,735.446 1621.55,752.08 1628.39,838.226 1635.22,957.034 1642.06,1038.51 1648.89,1016.46 1655.72,867.623 1662.56,632.212 1669.39,403.587 \\n  1676.22,289.327 1683.06,360.649 1689.89,613.915 1696.73,963.771 1703.56,1273.58 1710.39,1411.67 1717.23,1309.18 1724.06,993.577 1730.89,581.672 1737.73,233.79 \\n  1744.56,87.9763 1751.39,202.432 1758.23,531.137 1765.06,943.239 1771.9,1277.76 1778.73,1409.85 1785.56,1300.16 1792.4,1006.82 1799.23,656.23 1806.06,386.948 \\n  1812.9,292.122 1819.73,385.301 1826.56,602.969 1833.4,840.051 1840.23,1000.08 1847.07,1036.24 1853.9,965.207 1860.73,849.652 1867.57,760.397 1874.4,738.391 \\n  1881.23,775.758 1888.07,824.725 1894.9,828.74 1901.73,758.669 1908.57,634.303 1915.4,518.83 1922.24,487.787 1929.07,587.458 1935.9,804.039 1942.74,1060.64 \\n  1949.57,1246.25 1956.4,1265.2 1963.24,1084.47 1970.07,756.179 1976.9,402.474 1983.74,167.39 1990.57,155.522 1997.41,384.576 2004.24,773.565 2011.07,1173.21 \\n  2017.91,1426.48 2024.74,1433.5 2031.57,1193.02 2038.41,802.401 2045.24,416.361 2052.08,182.556 2058.91,181.896 2065.74,398.841 2072.58,733.249 2079.41,1046.91 \\n  2086.24,1223.05 2093.08,1212.41 2099.91,1046.76 2106.74,816.312 2113.58,623.755 2120.41,537.643 2127.25,566.463 2134.08,663.832 2140.91,759.71 2147.75,800.283 \\n  2154.58,775.758 2161.41,722.301 2168.25,697.978 2175.08,746.013 2181.91,865.355 2188.75,1005 2195.58,1086.49 2202.42,1044.47 2209.25,865.147 2216.08,602.412 \\n  2222.92,361.227 2229.75,253.622 2236.58,346.434 2243.42,625.237 2250.25,992.737 2257.08,1304.81 2263.92,1430.03 2270.75,1307.02 2277.59,974.042 2284.42,556.629 \\n  2291.25,217.466 \\n  \\\"\\/>\\n<path clip-path=\\\"url(#clip460)\\\" d=\\\"\\nM1987.85 216.178 L2280.32 216.178 L2280.32 95.2176 L1987.85 95.2176  Z\\n  \\\" fill=\\\"#ffffff\\\" fill-rule=\\\"evenodd\\\" fill-opacity=\\\"1\\\"\\/>\\n<polyline clip-path=\\\"url(#clip460)\\\" style=\\\"stroke:#000000; stroke-width:4; stroke-opacity:1; fill:none\\\" points=\\\"\\n  1987.85,216.178 2280.32,216.178 2280.32,95.2176 1987.85,95.2176 1987.85,216.178 \\n  \\\"\\/>\\n<polyline clip-path=\\\"url(#clip460)\\\" style=\\\"stroke:#009af9; stroke-width:4; stroke-opacity:1; fill:none\\\" points=\\\"\\n  2011.99,155.698 2156.86,155.698 \\n  \\\"\\/>\\n<path clip-path=\\\"url(#clip460)\\\" d=\\\"M 0 0 M2194.85 175.385 Q2193.05 180.015 2191.33 181.427 Q2189.62 182.839 2186.75 182.839 L2183.35 182.839 L2183.35 179.274 L2185.85 179.274 Q2187.61 179.274 2188.58 178.44 Q2189.55 177.607 2190.73 174.505 L2191.5 172.561 L2181.01 147.052 L2185.52 147.052 L2193.63 167.329 L2201.73 147.052 L2206.24 147.052 L2194.85 175.385 Z\\\" fill=\\\"#000000\\\" fill-rule=\\\"evenodd\\\" fill-opacity=\\\"1\\\" \\/><path clip-path=\\\"url(#clip460)\\\" d=\\\"M 0 0 M2212.12 169.042 L2219.76 169.042 L2219.76 142.677 L2211.45 144.343 L2211.45 140.084 L2219.71 138.418 L2224.39 138.418 L2224.39 169.042 L2232.03 169.042 L2232.03 172.978 L2212.12 172.978 L2212.12 169.042 Z\\\" fill=\\\"#000000\\\" fill-rule=\\\"evenodd\\\" fill-opacity=\\\"1\\\" \\/><\\/svg>\\n\"},\"nodeType\":\"DOM\",\"type\":\"node\",\"instanceArgs\":{\"namespace\":\"html\",\"tag\":\"div\"},\"children\":[]}]}}}},\"children\":[{\"props\":{},\"nodeType\":\"ObservableNode\",\"type\":\"node\",\"instanceArgs\":{\"id\":\"6136435734122708675\",\"name\":\"obs-node\"},\"children\":[]}]}]},\n",
       "            window,\n",
       "        );\n",
       "    } else {\n",
       "        document\n",
       "            .querySelector('[data-webio-mountpoint=\"10242517078211847699\"]')\n",
       "            .innerHTML = (\n",
       "                '<div style=\"padding: 1em; background-color: #f8d6da; border: 1px solid #f5c6cb\">' +\n",
       "                '<p><strong>WebIO not detected.</strong></p>' +\n",
       "                '<p>Please read ' +\n",
       "                '<a href=\"https://juliagizmos.github.io/WebIO.jl/latest/troubleshooting/not-detected/\" target=\"_blank\">the troubleshooting guide</a> ' +\n",
       "                'for more information on how to resolve this issue.</p>' +\n",
       "                '<p><a href=\"https://juliagizmos.github.io/WebIO.jl/latest/troubleshooting/not-detected/\" target=\"_blank\">https://juliagizmos.github.io/WebIO.jl/latest/troubleshooting/not-detected/</a></p>' +\n",
       "                '</div>'\n",
       "            );\n",
       "    }\n",
       "    </script>\n",
       "</div>\n"
      ],
      "text/plain": [
       "Node{WebIO.DOM}(WebIO.DOM(:html, :div), Any[Node{WebIO.DOM}(WebIO.DOM(:html, :div), Any[Scope(Node{WebIO.DOM}(WebIO.DOM(:html, :div), Any[Node{WebIO.DOM}(WebIO.DOM(:html, :div), Any[Node{WebIO.DOM}(WebIO.DOM(:html, :label), Any[\"freq1\"], Dict{Symbol,Any}(:className => \"interact \",:style => Dict{Any,Any}(:padding => \"5px 10px 0px 10px\")))], Dict{Symbol,Any}(:className => \"interact-flex-row-left\")), Node{WebIO.DOM}(WebIO.DOM(:html, :div), Any[Node{WebIO.DOM}(WebIO.DOM(:html, :div), Any[Node{WebIO.DOM}(WebIO.DOM(:html, :span), Any[Node{WebIO.DOM}(WebIO.DOM(:html, :label), Any[], Dict{Symbol,Any}(:attributes => Dict(\"data-bind\" => \"text : key\")))], Dict{Symbol,Any}(:attributes => Dict(\"data-bind\" => \"click: function (){\\$root.update(val)}, css: {'is-primary is-selected' : \\$root.index() == val, 'interact-widget is-medium button ' : true}\")))], Dict{Symbol,Any}(:attributes => (\"data-bind\" => \"foreach : options_js\"),:className => \"buttons has-addons is-centered\"))], Dict{Symbol,Any}(:className => \"interact-flex-row-center\")), Node{WebIO.DOM}(WebIO.DOM(:html, :div), Any[Node{WebIO.DOM}(WebIO.DOM(:html, :div), Any[], Dict{Symbol,Any}())], Dict{Symbol,Any}(:className => \"interact-flex-row-right\"))], Dict{Symbol,Any}(:className => \"interact-flex-row interact-widget\")), Dict{String,Tuple{Observables.AbstractObservable,Union{Nothing, Bool}}}(\"options_js\" => (Observable{Any} with 1 listeners. Value:\n",
       "OrderedDict[OrderedDict{String,Any}(\"key\" => \"pi/4\",\"val\" => 1,\"id\" => \"iddgeKPaXe\"), OrderedDict{String,Any}(\"key\" => \"π/2\",\"val\" => 2,\"id\" => \"idjkluWuvX\"), OrderedDict{String,Any}(\"key\" => \"3π/4\",\"val\" => 3,\"id\" => \"idA5BZrFUh\"), OrderedDict{String,Any}(\"key\" => \"π\",\"val\" => 4,\"id\" => \"idygElO7FL\")], nothing),\"index\" => (Observable{Any} with 2 listeners. Value:\n",
       "1, nothing)), Set{String}(), nothing, Asset[Asset(\"js\", \"knockout\", \"C:\\\\Users\\\\Sharan Yalburgi\\\\.julia\\\\packages\\\\Knockout\\\\IP1uR\\\\src\\\\..\\\\assets\\\\knockout.js\"), Asset(\"js\", \"knockout_punches\", \"C:\\\\Users\\\\Sharan Yalburgi\\\\.julia\\\\packages\\\\Knockout\\\\IP1uR\\\\src\\\\..\\\\assets\\\\knockout_punches.js\"), Asset(\"js\", nothing, \"C:\\\\Users\\\\Sharan Yalburgi\\\\.julia\\\\packages\\\\InteractBase\\\\Zfu5P\\\\src\\\\..\\\\assets\\\\all.js\"), Asset(\"css\", nothing, \"C:\\\\Users\\\\Sharan Yalburgi\\\\.julia\\\\packages\\\\InteractBase\\\\Zfu5P\\\\src\\\\..\\\\assets\\\\style.css\"), Asset(\"css\", nothing, \"C:\\\\Users\\\\Sharan Yalburgi\\\\.julia\\\\packages\\\\Interact\\\\SbgIk\\\\src\\\\..\\\\assets\\\\bulma_confined.min.css\")], Dict{Any,Any}(\"options_js\" => Any[WebIO.JSString(\"(function (val){return (val!=this.model[\\\"options_js\\\"]()) ? (this.valueFromJulia[\\\"options_js\\\"]=true, this.model[\\\"options_js\\\"](val)) : undefined})\")],\"index\" => Any[WebIO.JSString(\"(function (val){return (val!=this.model[\\\"index\\\"]()) ? (this.valueFromJulia[\\\"index\\\"]=true, this.model[\\\"index\\\"](val)) : undefined})\")]), WebIO.ConnectionPool(Channel{Any}(sz_max:32,sz_curr:0), Set{AbstractConnection}(), Base.GenericCondition{Base.AlwaysLockedST}(Base.InvasiveLinkedList{Task}(Task (runnable) @0x0000000013c43990, Task (runnable) @0x0000000013c43990), Base.AlwaysLockedST(1))), WebIO.JSString[WebIO.JSString(\"function () {\\n    var handler = (function (ko, koPunches) {\\n    ko.punches.enableAll();\\n    ko.bindingHandlers.numericValue = {\\n        init: function(element, valueAccessor, allBindings, data, context) {\\n            var stringified = ko.observable(ko.unwrap(valueAccessor()));\\n            stringified.subscribe(function(value) {\\n                var val = parseFloat(value);\\n                if (!isNaN(val)) {\\n                    valueAccessor()(val);\\n                }\\n            });\\n            valueAccessor().subscribe(function(value) {\\n                var str = JSON.stringify(value);\\n                if ((str == \\\"0\\\") && ([\\\"-0\\\", \\\"-0.\\\"].indexOf(stringified()) >= 0))\\n                     return;\\n                 if ([\\\"null\\\", \\\"\\\"].indexOf(str) >= 0)\\n                     return;\\n                stringified(str);\\n            });\\n            ko.applyBindingsToNode(\\n                element,\\n                {\\n                    value: stringified,\\n                    valueUpdate: allBindings.get('valueUpdate'),\\n                },\\n                context,\\n            );\\n        }\\n    };\\n    var json_data = {\\\"options_js\\\":WebIO.getval({\\\"name\\\":\\\"options_js\\\",\\\"scope\\\":\\\"2496397173899990854\\\",\\\"id\\\":\\\"12363473999540113687\\\",\\\"type\\\":\\\"observable\\\"}),\\\"index\\\":WebIO.getval({\\\"name\\\":\\\"index\\\",\\\"scope\\\":\\\"2496397173899990854\\\",\\\"id\\\":\\\"11673622991016866880\\\",\\\"type\\\":\\\"observable\\\"})};\\n    var self = this;\\n    function AppViewModel() {\\n        for (var key in json_data) {\\n            var el = json_data[key];\\n            this[key] = Array.isArray(el) ? ko.observableArray(el) : ko.observable(el);\\n        }\\n        [this[\\\"update\\\"]=function (val) {this.index(val)}]\\n        \\n        [this[\\\"options_js\\\"].subscribe((function (val){!(this.valueFromJulia[\\\"options_js\\\"]) ? (WebIO.setval({\\\"name\\\":\\\"options_js\\\",\\\"scope\\\":\\\"2496397173899990854\\\",\\\"id\\\":\\\"12363473999540113687\\\",\\\"type\\\":\\\"observable\\\"},val)) : undefined; return this.valueFromJulia[\\\"options_js\\\"]=false}),self),this[\\\"index\\\"].subscribe((function (val){!(this.valueFromJulia[\\\"index\\\"]) ? (WebIO.setval({\\\"name\\\":\\\"index\\\",\\\"scope\\\":\\\"2496397173899990854\\\",\\\"id\\\":\\\"11673622991016866880\\\",\\\"type\\\":\\\"observable\\\"},val)) : undefined; return this.valueFromJulia[\\\"index\\\"]=false}),self)]\\n        \\n    }\\n    self.model = new AppViewModel();\\n    self.valueFromJulia = {};\\n    for (var key in json_data) {\\n        self.valueFromJulia[key] = false;\\n    }\\n    ko.applyBindings(self.model, self.dom);\\n}\\n);\\n    (WebIO.importBlock({\\\"data\\\":[{\\\"name\\\":\\\"knockout\\\",\\\"type\\\":\\\"js\\\",\\\"url\\\":\\\"/assetserver/80133f82293cee26d1735d34aed40afbbc0f7fda-knockout.js\\\"},{\\\"name\\\":\\\"knockout_punches\\\",\\\"type\\\":\\\"js\\\",\\\"url\\\":\\\"/assetserver/ec63fe3c2e63669d02ee7b7e80d1dc05684cd646-knockout_punches.js\\\"}],\\\"type\\\":\\\"async_block\\\"})).then((imports) => handler.apply(this, imports));\\n}\\n\")])], Dict{Symbol,Any}(:className => \"interact-widget\")), Node{WebIO.DOM}(WebIO.DOM(:html, :div), Any[Scope(Node{WebIO.DOM}(WebIO.DOM(:html, :div), Any[Node{WebIO.DOM}(WebIO.DOM(:html, :div), Any[Node{WebIO.DOM}(WebIO.DOM(:html, :label), Any[\"freq2\"], Dict{Symbol,Any}(:className => \"interact \",:style => Dict{Any,Any}(:padding => \"5px 10px 0px 10px\")))], Dict{Symbol,Any}(:className => \"interact-flex-row-left\")), Node{WebIO.DOM}(WebIO.DOM(:html, :div), Any[Node{WebIO.DOM}(WebIO.DOM(:html, :input), Any[], Dict{Symbol,Any}(:max => 126,:min => 1,:attributes => Dict{Any,Any}(:type => \"range\",Symbol(\"data-bind\") => \"numericValue: index, valueUpdate: 'input', event: {change: function (){this.changes(this.changes()+1)}}\",\"orient\" => \"horizontal\"),:step => 1,:className => \"slider slider is-fullwidth\",:style => Dict{Any,Any}()))], Dict{Symbol,Any}(:className => \"interact-flex-row-center\")), Node{WebIO.DOM}(WebIO.DOM(:html, :div), Any[Node{WebIO.DOM}(WebIO.DOM(:html, :p), Any[], Dict{Symbol,Any}(:attributes => Dict(\"data-bind\" => \"text: formatted_val\")))], Dict{Symbol,Any}(:className => \"interact-flex-row-right\"))], Dict{Symbol,Any}(:className => \"interact-flex-row interact-widget\")), Dict{String,Tuple{Observables.AbstractObservable,Union{Nothing, Bool}}}(\"changes\" => (Observable{Int64} with 1 listeners. Value:\n",
       "0, nothing),\"index\" => (Observable{Any} with 2 listeners. Value:\n",
       "63, nothing)), Set{String}(), nothing, Asset[Asset(\"js\", \"knockout\", \"C:\\\\Users\\\\Sharan Yalburgi\\\\.julia\\\\packages\\\\Knockout\\\\IP1uR\\\\src\\\\..\\\\assets\\\\knockout.js\"), Asset(\"js\", \"knockout_punches\", \"C:\\\\Users\\\\Sharan Yalburgi\\\\.julia\\\\packages\\\\Knockout\\\\IP1uR\\\\src\\\\..\\\\assets\\\\knockout_punches.js\"), Asset(\"js\", nothing, \"C:\\\\Users\\\\Sharan Yalburgi\\\\.julia\\\\packages\\\\InteractBase\\\\Zfu5P\\\\src\\\\..\\\\assets\\\\all.js\"), Asset(\"css\", nothing, \"C:\\\\Users\\\\Sharan Yalburgi\\\\.julia\\\\packages\\\\InteractBase\\\\Zfu5P\\\\src\\\\..\\\\assets\\\\style.css\"), Asset(\"css\", nothing, \"C:\\\\Users\\\\Sharan Yalburgi\\\\.julia\\\\packages\\\\Interact\\\\SbgIk\\\\src\\\\..\\\\assets\\\\bulma_confined.min.css\")], Dict{Any,Any}(\"changes\" => Any[WebIO.JSString(\"(function (val){return (val!=this.model[\\\"changes\\\"]()) ? (this.valueFromJulia[\\\"changes\\\"]=true, this.model[\\\"changes\\\"](val)) : undefined})\")],\"index\" => Any[WebIO.JSString(\"(function (val){return (val!=this.model[\\\"index\\\"]()) ? (this.valueFromJulia[\\\"index\\\"]=true, this.model[\\\"index\\\"](val)) : undefined})\")]), WebIO.ConnectionPool(Channel{Any}(sz_max:32,sz_curr:0), Set{AbstractConnection}(), Base.GenericCondition{Base.AlwaysLockedST}(Base.InvasiveLinkedList{Task}(Task (runnable) @0x00000000511699f0, Task (runnable) @0x00000000511699f0), Base.AlwaysLockedST(1))), WebIO.JSString[WebIO.JSString(\"function () {\\n    var handler = (function (ko, koPunches) {\\n    ko.punches.enableAll();\\n    ko.bindingHandlers.numericValue = {\\n        init: function(element, valueAccessor, allBindings, data, context) {\\n            var stringified = ko.observable(ko.unwrap(valueAccessor()));\\n            stringified.subscribe(function(value) {\\n                var val = parseFloat(value);\\n                if (!isNaN(val)) {\\n                    valueAccessor()(val);\\n                }\\n            });\\n            valueAccessor().subscribe(function(value) {\\n                var str = JSON.stringify(value);\\n                if ((str == \\\"0\\\") && ([\\\"-0\\\", \\\"-0.\\\"].indexOf(stringified()) >= 0))\\n                     return;\\n                 if ([\\\"null\\\", \\\"\\\"].indexOf(str) >= 0)\\n                     return;\\n                stringified(str);\\n            });\\n            ko.applyBindingsToNode(\\n                element,\\n                {\\n                    value: stringified,\\n                    valueUpdate: allBindings.get('valueUpdate'),\\n                },\\n                context,\\n            );\\n        }\\n    };\\n    var json_data = {\\\"formatted_vals\\\":[\\\"0.01\\\",\\\"0.11\\\",\\\"0.21\\\",\\\"0.31\\\",\\\"0.41\\\",\\\"0.51\\\",\\\"0.61\\\",\\\"0.71\\\",\\\"0.81\\\",\\\"0.91\\\",\\\"1.01\\\",\\\"1.11\\\",\\\"1.21\\\",\\\"1.31\\\",\\\"1.41\\\",\\\"1.51\\\",\\\"1.61\\\",\\\"1.71\\\",\\\"1.81\\\",\\\"1.91\\\",\\\"2.01\\\",\\\"2.11\\\",\\\"2.21\\\",\\\"2.31\\\",\\\"2.41\\\",\\\"2.51\\\",\\\"2.61\\\",\\\"2.71\\\",\\\"2.81\\\",\\\"2.91\\\",\\\"3.01\\\",\\\"3.11\\\",\\\"3.21\\\",\\\"3.31\\\",\\\"3.41\\\",\\\"3.51\\\",\\\"3.61\\\",\\\"3.71\\\",\\\"3.81\\\",\\\"3.91\\\",\\\"4.01\\\",\\\"4.11\\\",\\\"4.21\\\",\\\"4.31\\\",\\\"4.41\\\",\\\"4.51\\\",\\\"4.61\\\",\\\"4.71\\\",\\\"4.81\\\",\\\"4.91\\\",\\\"5.01\\\",\\\"5.11\\\",\\\"5.21\\\",\\\"5.31\\\",\\\"5.41\\\",\\\"5.51\\\",\\\"5.61\\\",\\\"5.71\\\",\\\"5.81\\\",\\\"5.91\\\",\\\"6.01\\\",\\\"6.11\\\",\\\"6.21\\\",\\\"6.31\\\",\\\"6.41\\\",\\\"6.51\\\",\\\"6.61\\\",\\\"6.71\\\",\\\"6.81\\\",\\\"6.91\\\",\\\"7.01\\\",\\\"7.11\\\",\\\"7.21\\\",\\\"7.31\\\",\\\"7.41\\\",\\\"7.51\\\",\\\"7.61\\\",\\\"7.71\\\",\\\"7.81\\\",\\\"7.91\\\",\\\"8.01\\\",\\\"8.11\\\",\\\"8.21\\\",\\\"8.31\\\",\\\"8.41\\\",\\\"8.51\\\",\\\"8.61\\\",\\\"8.71\\\",\\\"8.81\\\",\\\"8.91\\\",\\\"9.01\\\",\\\"9.11\\\",\\\"9.21\\\",\\\"9.31\\\",\\\"9.41\\\",\\\"9.51\\\",\\\"9.61\\\",\\\"9.71\\\",\\\"9.81\\\",\\\"9.91\\\",\\\"10.01\\\",\\\"10.11\\\",\\\"10.21\\\",\\\"10.31\\\",\\\"10.41\\\",\\\"10.51\\\",\\\"10.61\\\",\\\"10.71\\\",\\\"10.81\\\",\\\"10.91\\\",\\\"11.01\\\",\\\"11.11\\\",\\\"11.21\\\",\\\"11.31\\\",\\\"11.41\\\",\\\"11.51\\\",\\\"11.61\\\",\\\"11.71\\\",\\\"11.81\\\",\\\"11.91\\\",\\\"12.01\\\",\\\"12.11\\\",\\\"12.21\\\",\\\"12.31\\\",\\\"12.41\\\",\\\"12.51\\\"],\\\"changes\\\":WebIO.getval({\\\"name\\\":\\\"changes\\\",\\\"scope\\\":\\\"1809717955835292648\\\",\\\"id\\\":\\\"3954626860439442804\\\",\\\"type\\\":\\\"observable\\\"}),\\\"index\\\":WebIO.getval({\\\"name\\\":\\\"index\\\",\\\"scope\\\":\\\"1809717955835292648\\\",\\\"id\\\":\\\"18436344284595466663\\\",\\\"type\\\":\\\"observable\\\"})};\\n    var self = this;\\n    function AppViewModel() {\\n        for (var key in json_data) {\\n            var el = json_data[key];\\n            this[key] = Array.isArray(el) ? ko.observableArray(el) : ko.observable(el);\\n        }\\n        \\n        [this[\\\"formatted_val\\\"]=ko.computed(    function(){\\n        return this.formatted_vals()[parseInt(this.index())-(1)];\\n    }\\n,this)]\\n        [this[\\\"changes\\\"].subscribe((function (val){!(this.valueFromJulia[\\\"changes\\\"]) ? (WebIO.setval({\\\"name\\\":\\\"changes\\\",\\\"scope\\\":\\\"1809717955835292648\\\",\\\"id\\\":\\\"3954626860439442804\\\",\\\"type\\\":\\\"observable\\\"},val)) : undefined; return this.valueFromJulia[\\\"changes\\\"]=false}),self),this[\\\"index\\\"].subscribe((function (val){!(this.valueFromJulia[\\\"index\\\"]) ? (WebIO.setval({\\\"name\\\":\\\"index\\\",\\\"scope\\\":\\\"1809717955835292648\\\",\\\"id\\\":\\\"18436344284595466663\\\",\\\"type\\\":\\\"observable\\\"},val)) : undefined; return this.valueFromJulia[\\\"index\\\"]=false}),self)]\\n        \\n    }\\n    self.model = new AppViewModel();\\n    self.valueFromJulia = {};\\n    for (var key in json_data) {\\n        self.valueFromJulia[key] = false;\\n    }\\n    ko.applyBindings(self.model, self.dom);\\n}\\n);\\n    (WebIO.importBlock({\\\"data\\\":[{\\\"name\\\":\\\"knockout\\\",\\\"type\\\":\\\"js\\\",\\\"url\\\":\\\"/assetserver/80133f82293cee26d1735d34aed40afbbc0f7fda-knockout.js\\\"},{\\\"name\\\":\\\"knockout_punches\\\",\\\"type\\\":\\\"js\\\",\\\"url\\\":\\\"/assetserver/ec63fe3c2e63669d02ee7b7e80d1dc05684cd646-knockout_punches.js\\\"}],\\\"type\\\":\\\"async_block\\\"})).then((imports) => handler.apply(this, imports));\\n}\\n\")])], Dict{Symbol,Any}(:className => \"field interact-widget\")), Observable{Any} with 0 listeners. Value:\n",
       "Node{WebIO.DOM}(WebIO.DOM(:html, :div), Any[Plot{Plots.GRBackend() n=1}], Dict{Symbol,Any}(:className => \"interact-flex-row interact-widget\"))], Dict{Symbol,Any}())"
      ]
     },
     "execution_count": 12,
     "metadata": {
      "application/vnd.webio.node+json": {
       "kernelId": "c96a0c6c-b083-4a61-9d39-da126ec6b321"
      }
     },
     "output_type": "execute_result"
    }
   ],
   "source": [
    "x = y = 0:0.1:30\n",
    "freqs = OrderedDict(zip([\"pi/4\", \"π/2\", \"3π/4\", \"π\"], [π/4, π/2, 3π/4, π]))\n",
    "mp = @manipulate for freq1 in freqs, freq2 in slider(0.01:0.1:4π; label=\"freq2\")\n",
    "    y = @. sin(freq1*x) * sin(freq2*x)\n",
    "    Plots.plot(x, y)\n",
    "end"
   ]
  },
  {
   "cell_type": "code",
   "execution_count": null,
   "metadata": {},
   "outputs": [],
   "source": []
  }
 ],
 "metadata": {
  "@webio": {
   "lastCommId": "5d3b55fa49854f3885dd065ae151213a",
   "lastKernelId": "c96a0c6c-b083-4a61-9d39-da126ec6b321"
  },
  "kernelspec": {
   "display_name": "Julia 1.5.3",
   "language": "julia",
   "name": "julia-1.5"
  },
  "language_info": {
   "file_extension": ".jl",
   "mimetype": "application/julia",
   "name": "julia",
   "version": "1.5.3"
  }
 },
 "nbformat": 4,
 "nbformat_minor": 4
}
