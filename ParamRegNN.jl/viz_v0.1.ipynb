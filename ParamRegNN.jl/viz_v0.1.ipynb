{
 "cells": [
  {
   "cell_type": "code",
   "execution_count": 4,
   "metadata": {},
   "outputs": [
    {
     "ename": "LoadError",
     "evalue": "ArgumentError: Package Plots not found in current path:\n- Run `import Pkg; Pkg.add(\"Plots\")` to install the Plots package.\n",
     "output_type": "error",
     "traceback": [
      "ArgumentError: Package Plots not found in current path:\n- Run `import Pkg; Pkg.add(\"Plots\")` to install the Plots package.\n",
      "",
      "Stacktrace:",
      " [1] require(::Module, ::Symbol) at .\\loading.jl:893",
      " [2] include_string(::Function, ::Module, ::String, ::String) at .\\loading.jl:1091"
     ]
    }
   ],
   "source": [
    "using Plots\n",
    "using CSV\n",
    "using DataFrames\n",
    "using StatsPlots\n",
    "using PlotlyJS\n",
    "using Interact"
   ]
  },
  {
   "cell_type": "code",
   "execution_count": 3,
   "metadata": {},
   "outputs": [
    {
     "ename": "LoadError",
     "evalue": "UndefVarError: OrderedDict not defined",
     "output_type": "error",
     "traceback": [
      "UndefVarError: OrderedDict not defined",
      "",
      "Stacktrace:",
      " [1] top-level scope at In[3]:2",
      " [2] include_string(::Function, ::Module, ::String, ::String) at .\\loading.jl:1091"
     ]
    }
   ],
   "source": [
    "x = y = 0:0.1:30\n",
    "freqs = OrderedDict(zip([\"pi/4\", \"π/2\", \"3π/4\", \"π\"], [π/4, π/2, 3π/4, π]))\n",
    "mp = @manipulate for freq1 in freqs, freq2 in slider(0.01:0.1:4π; label=\"freq2\")\n",
    "    y = @. sin(freq1*x) * sin(freq2*x)\n",
    "    Plots.plot(x, y)\n",
    "end"
   ]
  },
  {
   "cell_type": "code",
   "execution_count": null,
   "metadata": {},
   "outputs": [],
   "source": []
  }
 ],
 "metadata": {
  "kernelspec": {
   "display_name": "Julia 1.5.3",
   "language": "julia",
   "name": "julia-1.5"
  },
  "language_info": {
   "file_extension": ".jl",
   "mimetype": "application/julia",
   "name": "julia",
   "version": "1.5.3"
  }
 },
 "nbformat": 4,
 "nbformat_minor": 4
}
